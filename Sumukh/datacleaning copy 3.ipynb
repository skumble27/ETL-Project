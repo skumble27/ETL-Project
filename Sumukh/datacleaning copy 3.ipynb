{
 "metadata": {
  "language_info": {
   "codemirror_mode": {
    "name": "ipython",
    "version": 3
   },
   "file_extension": ".py",
   "mimetype": "text/x-python",
   "name": "python",
   "nbconvert_exporter": "python",
   "pygments_lexer": "ipython3",
   "version": "3.6.12-final"
  },
  "orig_nbformat": 2,
  "kernelspec": {
   "name": "webscraping",
   "display_name": "Python (webscraping)"
  }
 },
 "nbformat": 4,
 "nbformat_minor": 2,
 "cells": [
  {
   "source": [
    "# Victorian Hotels"
   ],
   "cell_type": "markdown",
   "metadata": {}
  },
  {
   "cell_type": "code",
   "execution_count": 1,
   "metadata": {},
   "outputs": [],
   "source": [
    "# Importing the relevant module for Dataset cleaning\n",
    "import pandas as pd"
   ]
  },
  {
   "cell_type": "code",
   "execution_count": 2,
   "metadata": {},
   "outputs": [
    {
     "output_type": "execute_result",
     "data": {
      "text/plain": [
       "                                       Title                   Name  \\\n",
       "0                      LambInn&Store,YanYean                 Abbott   \n",
       "1                 MorrellsJunction,Mooroopna                  Allen   \n",
       "2                        Rose&Crown,Ballarat               Arthur,J   \n",
       "3    CommercialHotel&PostOffice&Store,Indigo          Ashdown,James   \n",
       "4                             Royal,Rupanyup  Ashmore,GeorgeCharles   \n",
       "..                                       ...                    ...   \n",
       "381                     BrewersArms,Ballarat               Wright,T   \n",
       "382                        AsylumHill,Ararat                    NaN   \n",
       "383                         Victoria,RedHill                    NaN   \n",
       "384                            Camp,Beaufort                    NaN   \n",
       "385            BontheramboHotel&PO,Boorhaman                    NaN   \n",
       "\n",
       "      Relationship           Date  \\\n",
       "0         Licensee  Notidentified   \n",
       "1         Licensee  Notidentified   \n",
       "2    Notidentified  Notidentified   \n",
       "3         Licensee  Notidentified   \n",
       "4         Licensee  Notidentified   \n",
       "..             ...            ...   \n",
       "381  Notidentified  Notidentified   \n",
       "382  Notidentified  Notidentified   \n",
       "383  Notidentified  Notidentified   \n",
       "384  Notidentified  Notidentified   \n",
       "385  Notidentified  Notidentified   \n",
       "\n",
       "                                                Source  \n",
       "0    ahotelentryintheRobertK.ColeIndexofVictorianho...  \n",
       "1    ahotelentryintheRobertK.ColeIndexofVictorianho...  \n",
       "2    ahotelentryintheRobertK.ColeIndexofVictorianho...  \n",
       "3    ahotelentryintheRobertK.ColeIndexofVictorianho...  \n",
       "4    ahotelentryintheRobertK.ColeIndexofVictorianho...  \n",
       "..                                                 ...  \n",
       "381  ahotelentryintheRobertK.ColeIndexofVictorianho...  \n",
       "382  ahotelentryintheRobertK.ColeIndexofVictorianho...  \n",
       "383  ahotelentryintheRobertK.ColeIndexofVictorianho...  \n",
       "384  ahotelentryintheRobertK.ColeIndexofVictorianho...  \n",
       "385  ahotelentryintheRobertK.ColeIndexofVictorianho...  \n",
       "\n",
       "[386 rows x 5 columns]"
      ],
      "text/html": "<div>\n<style scoped>\n    .dataframe tbody tr th:only-of-type {\n        vertical-align: middle;\n    }\n\n    .dataframe tbody tr th {\n        vertical-align: top;\n    }\n\n    .dataframe thead th {\n        text-align: right;\n    }\n</style>\n<table border=\"1\" class=\"dataframe\">\n  <thead>\n    <tr style=\"text-align: right;\">\n      <th></th>\n      <th>Title</th>\n      <th>Name</th>\n      <th>Relationship</th>\n      <th>Date</th>\n      <th>Source</th>\n    </tr>\n  </thead>\n  <tbody>\n    <tr>\n      <th>0</th>\n      <td>LambInn&amp;Store,YanYean</td>\n      <td>Abbott</td>\n      <td>Licensee</td>\n      <td>Notidentified</td>\n      <td>ahotelentryintheRobertK.ColeIndexofVictorianho...</td>\n    </tr>\n    <tr>\n      <th>1</th>\n      <td>MorrellsJunction,Mooroopna</td>\n      <td>Allen</td>\n      <td>Licensee</td>\n      <td>Notidentified</td>\n      <td>ahotelentryintheRobertK.ColeIndexofVictorianho...</td>\n    </tr>\n    <tr>\n      <th>2</th>\n      <td>Rose&amp;Crown,Ballarat</td>\n      <td>Arthur,J</td>\n      <td>Notidentified</td>\n      <td>Notidentified</td>\n      <td>ahotelentryintheRobertK.ColeIndexofVictorianho...</td>\n    </tr>\n    <tr>\n      <th>3</th>\n      <td>CommercialHotel&amp;PostOffice&amp;Store,Indigo</td>\n      <td>Ashdown,James</td>\n      <td>Licensee</td>\n      <td>Notidentified</td>\n      <td>ahotelentryintheRobertK.ColeIndexofVictorianho...</td>\n    </tr>\n    <tr>\n      <th>4</th>\n      <td>Royal,Rupanyup</td>\n      <td>Ashmore,GeorgeCharles</td>\n      <td>Licensee</td>\n      <td>Notidentified</td>\n      <td>ahotelentryintheRobertK.ColeIndexofVictorianho...</td>\n    </tr>\n    <tr>\n      <th>...</th>\n      <td>...</td>\n      <td>...</td>\n      <td>...</td>\n      <td>...</td>\n      <td>...</td>\n    </tr>\n    <tr>\n      <th>381</th>\n      <td>BrewersArms,Ballarat</td>\n      <td>Wright,T</td>\n      <td>Notidentified</td>\n      <td>Notidentified</td>\n      <td>ahotelentryintheRobertK.ColeIndexofVictorianho...</td>\n    </tr>\n    <tr>\n      <th>382</th>\n      <td>AsylumHill,Ararat</td>\n      <td>NaN</td>\n      <td>Notidentified</td>\n      <td>Notidentified</td>\n      <td>ahotelentryintheRobertK.ColeIndexofVictorianho...</td>\n    </tr>\n    <tr>\n      <th>383</th>\n      <td>Victoria,RedHill</td>\n      <td>NaN</td>\n      <td>Notidentified</td>\n      <td>Notidentified</td>\n      <td>ahotelentryintheRobertK.ColeIndexofVictorianho...</td>\n    </tr>\n    <tr>\n      <th>384</th>\n      <td>Camp,Beaufort</td>\n      <td>NaN</td>\n      <td>Notidentified</td>\n      <td>Notidentified</td>\n      <td>ahotelentryintheRobertK.ColeIndexofVictorianho...</td>\n    </tr>\n    <tr>\n      <th>385</th>\n      <td>BontheramboHotel&amp;PO,Boorhaman</td>\n      <td>NaN</td>\n      <td>Notidentified</td>\n      <td>Notidentified</td>\n      <td>ahotelentryintheRobertK.ColeIndexofVictorianho...</td>\n    </tr>\n  </tbody>\n</table>\n<p>386 rows × 5 columns</p>\n</div>"
     },
     "metadata": {},
     "execution_count": 2
    }
   ],
   "source": [
    "victoria_hotels_df = pd.read_csv('Raw_Data/victorian_country_hotels.csv')\n",
    "victoria_hotels_df"
   ]
  },
  {
   "cell_type": "code",
   "execution_count": 3,
   "metadata": {},
   "outputs": [
    {
     "output_type": "execute_result",
     "data": {
      "text/plain": [
       "                                       Title\n",
       "0                      LambInn&Store,YanYean\n",
       "1                 MorrellsJunction,Mooroopna\n",
       "2                        Rose&Crown,Ballarat\n",
       "3    CommercialHotel&PostOffice&Store,Indigo\n",
       "4                             Royal,Rupanyup\n",
       "..                                       ...\n",
       "381                     BrewersArms,Ballarat\n",
       "382                        AsylumHill,Ararat\n",
       "383                         Victoria,RedHill\n",
       "384                            Camp,Beaufort\n",
       "385            BontheramboHotel&PO,Boorhaman\n",
       "\n",
       "[386 rows x 1 columns]"
      ],
      "text/html": "<div>\n<style scoped>\n    .dataframe tbody tr th:only-of-type {\n        vertical-align: middle;\n    }\n\n    .dataframe tbody tr th {\n        vertical-align: top;\n    }\n\n    .dataframe thead th {\n        text-align: right;\n    }\n</style>\n<table border=\"1\" class=\"dataframe\">\n  <thead>\n    <tr style=\"text-align: right;\">\n      <th></th>\n      <th>Title</th>\n    </tr>\n  </thead>\n  <tbody>\n    <tr>\n      <th>0</th>\n      <td>LambInn&amp;Store,YanYean</td>\n    </tr>\n    <tr>\n      <th>1</th>\n      <td>MorrellsJunction,Mooroopna</td>\n    </tr>\n    <tr>\n      <th>2</th>\n      <td>Rose&amp;Crown,Ballarat</td>\n    </tr>\n    <tr>\n      <th>3</th>\n      <td>CommercialHotel&amp;PostOffice&amp;Store,Indigo</td>\n    </tr>\n    <tr>\n      <th>4</th>\n      <td>Royal,Rupanyup</td>\n    </tr>\n    <tr>\n      <th>...</th>\n      <td>...</td>\n    </tr>\n    <tr>\n      <th>381</th>\n      <td>BrewersArms,Ballarat</td>\n    </tr>\n    <tr>\n      <th>382</th>\n      <td>AsylumHill,Ararat</td>\n    </tr>\n    <tr>\n      <th>383</th>\n      <td>Victoria,RedHill</td>\n    </tr>\n    <tr>\n      <th>384</th>\n      <td>Camp,Beaufort</td>\n    </tr>\n    <tr>\n      <th>385</th>\n      <td>BontheramboHotel&amp;PO,Boorhaman</td>\n    </tr>\n  </tbody>\n</table>\n<p>386 rows × 1 columns</p>\n</div>"
     },
     "metadata": {},
     "execution_count": 3
    }
   ],
   "source": [
    "# Keeping relevant columns\n",
    "victoria_hotels_1 = victoria_hotels_df.drop(columns=['Name','Relationship','Date','Source'])\n",
    "victoria_hotels_1"
   ]
  },
  {
   "cell_type": "code",
   "execution_count": 4,
   "metadata": {},
   "outputs": [
    {
     "output_type": "execute_result",
     "data": {
      "text/plain": [
       "                                    0          1\n",
       "0                       LambInn&Store    YanYean\n",
       "1                    MorrellsJunction  Mooroopna\n",
       "2                          Rose&Crown   Ballarat\n",
       "3    CommercialHotel&PostOffice&Store     Indigo\n",
       "4                               Royal   Rupanyup\n",
       "..                                ...        ...\n",
       "381                       BrewersArms   Ballarat\n",
       "382                        AsylumHill     Ararat\n",
       "383                          Victoria    RedHill\n",
       "384                              Camp   Beaufort\n",
       "385               BontheramboHotel&PO  Boorhaman\n",
       "\n",
       "[386 rows x 2 columns]"
      ],
      "text/html": "<div>\n<style scoped>\n    .dataframe tbody tr th:only-of-type {\n        vertical-align: middle;\n    }\n\n    .dataframe tbody tr th {\n        vertical-align: top;\n    }\n\n    .dataframe thead th {\n        text-align: right;\n    }\n</style>\n<table border=\"1\" class=\"dataframe\">\n  <thead>\n    <tr style=\"text-align: right;\">\n      <th></th>\n      <th>0</th>\n      <th>1</th>\n    </tr>\n  </thead>\n  <tbody>\n    <tr>\n      <th>0</th>\n      <td>LambInn&amp;Store</td>\n      <td>YanYean</td>\n    </tr>\n    <tr>\n      <th>1</th>\n      <td>MorrellsJunction</td>\n      <td>Mooroopna</td>\n    </tr>\n    <tr>\n      <th>2</th>\n      <td>Rose&amp;Crown</td>\n      <td>Ballarat</td>\n    </tr>\n    <tr>\n      <th>3</th>\n      <td>CommercialHotel&amp;PostOffice&amp;Store</td>\n      <td>Indigo</td>\n    </tr>\n    <tr>\n      <th>4</th>\n      <td>Royal</td>\n      <td>Rupanyup</td>\n    </tr>\n    <tr>\n      <th>...</th>\n      <td>...</td>\n      <td>...</td>\n    </tr>\n    <tr>\n      <th>381</th>\n      <td>BrewersArms</td>\n      <td>Ballarat</td>\n    </tr>\n    <tr>\n      <th>382</th>\n      <td>AsylumHill</td>\n      <td>Ararat</td>\n    </tr>\n    <tr>\n      <th>383</th>\n      <td>Victoria</td>\n      <td>RedHill</td>\n    </tr>\n    <tr>\n      <th>384</th>\n      <td>Camp</td>\n      <td>Beaufort</td>\n    </tr>\n    <tr>\n      <th>385</th>\n      <td>BontheramboHotel&amp;PO</td>\n      <td>Boorhaman</td>\n    </tr>\n  </tbody>\n</table>\n<p>386 rows × 2 columns</p>\n</div>"
     },
     "metadata": {},
     "execution_count": 4
    }
   ],
   "source": [
    "# Need to seperate hotel name from city\n",
    "location = victoria_hotels_1['Title'].str.split(\",\", n=1, expand=True)\n",
    "location"
   ]
  },
  {
   "cell_type": "code",
   "execution_count": 5,
   "metadata": {},
   "outputs": [],
   "source": [
    "# Updating the Dataframe\n",
    "victoria_hotels_1['City'] = location[1]"
   ]
  },
  {
   "cell_type": "code",
   "execution_count": 6,
   "metadata": {},
   "outputs": [
    {
     "output_type": "execute_result",
     "data": {
      "text/plain": [
       "          City\n",
       "0      YanYean\n",
       "1    Mooroopna\n",
       "2     Ballarat\n",
       "3       Indigo\n",
       "4     Rupanyup\n",
       "..         ...\n",
       "381   Ballarat\n",
       "382     Ararat\n",
       "383    RedHill\n",
       "384   Beaufort\n",
       "385  Boorhaman\n",
       "\n",
       "[386 rows x 1 columns]"
      ],
      "text/html": "<div>\n<style scoped>\n    .dataframe tbody tr th:only-of-type {\n        vertical-align: middle;\n    }\n\n    .dataframe tbody tr th {\n        vertical-align: top;\n    }\n\n    .dataframe thead th {\n        text-align: right;\n    }\n</style>\n<table border=\"1\" class=\"dataframe\">\n  <thead>\n    <tr style=\"text-align: right;\">\n      <th></th>\n      <th>City</th>\n    </tr>\n  </thead>\n  <tbody>\n    <tr>\n      <th>0</th>\n      <td>YanYean</td>\n    </tr>\n    <tr>\n      <th>1</th>\n      <td>Mooroopna</td>\n    </tr>\n    <tr>\n      <th>2</th>\n      <td>Ballarat</td>\n    </tr>\n    <tr>\n      <th>3</th>\n      <td>Indigo</td>\n    </tr>\n    <tr>\n      <th>4</th>\n      <td>Rupanyup</td>\n    </tr>\n    <tr>\n      <th>...</th>\n      <td>...</td>\n    </tr>\n    <tr>\n      <th>381</th>\n      <td>Ballarat</td>\n    </tr>\n    <tr>\n      <th>382</th>\n      <td>Ararat</td>\n    </tr>\n    <tr>\n      <th>383</th>\n      <td>RedHill</td>\n    </tr>\n    <tr>\n      <th>384</th>\n      <td>Beaufort</td>\n    </tr>\n    <tr>\n      <th>385</th>\n      <td>Boorhaman</td>\n    </tr>\n  </tbody>\n</table>\n<p>386 rows × 1 columns</p>\n</div>"
     },
     "metadata": {},
     "execution_count": 6
    }
   ],
   "source": [
    "# Dropping the Title column\n",
    "victoria_hotels_2 = victoria_hotels_1.drop(columns=['Title']).copy()\n",
    "victoria_hotels_2"
   ]
  },
  {
   "cell_type": "code",
   "execution_count": 7,
   "metadata": {},
   "outputs": [
    {
     "output_type": "execute_result",
     "data": {
      "text/plain": [
       "          City                             Hotel\n",
       "0      YanYean                     LambInn&Store\n",
       "1    Mooroopna                  MorrellsJunction\n",
       "2     Ballarat                        Rose&Crown\n",
       "3       Indigo  CommercialHotel&PostOffice&Store\n",
       "4     Rupanyup                             Royal\n",
       "..         ...                               ...\n",
       "381   Ballarat                       BrewersArms\n",
       "382     Ararat                        AsylumHill\n",
       "383    RedHill                          Victoria\n",
       "384   Beaufort                              Camp\n",
       "385  Boorhaman               BontheramboHotel&PO\n",
       "\n",
       "[386 rows x 2 columns]"
      ],
      "text/html": "<div>\n<style scoped>\n    .dataframe tbody tr th:only-of-type {\n        vertical-align: middle;\n    }\n\n    .dataframe tbody tr th {\n        vertical-align: top;\n    }\n\n    .dataframe thead th {\n        text-align: right;\n    }\n</style>\n<table border=\"1\" class=\"dataframe\">\n  <thead>\n    <tr style=\"text-align: right;\">\n      <th></th>\n      <th>City</th>\n      <th>Hotel</th>\n    </tr>\n  </thead>\n  <tbody>\n    <tr>\n      <th>0</th>\n      <td>YanYean</td>\n      <td>LambInn&amp;Store</td>\n    </tr>\n    <tr>\n      <th>1</th>\n      <td>Mooroopna</td>\n      <td>MorrellsJunction</td>\n    </tr>\n    <tr>\n      <th>2</th>\n      <td>Ballarat</td>\n      <td>Rose&amp;Crown</td>\n    </tr>\n    <tr>\n      <th>3</th>\n      <td>Indigo</td>\n      <td>CommercialHotel&amp;PostOffice&amp;Store</td>\n    </tr>\n    <tr>\n      <th>4</th>\n      <td>Rupanyup</td>\n      <td>Royal</td>\n    </tr>\n    <tr>\n      <th>...</th>\n      <td>...</td>\n      <td>...</td>\n    </tr>\n    <tr>\n      <th>381</th>\n      <td>Ballarat</td>\n      <td>BrewersArms</td>\n    </tr>\n    <tr>\n      <th>382</th>\n      <td>Ararat</td>\n      <td>AsylumHill</td>\n    </tr>\n    <tr>\n      <th>383</th>\n      <td>RedHill</td>\n      <td>Victoria</td>\n    </tr>\n    <tr>\n      <th>384</th>\n      <td>Beaufort</td>\n      <td>Camp</td>\n    </tr>\n    <tr>\n      <th>385</th>\n      <td>Boorhaman</td>\n      <td>BontheramboHotel&amp;PO</td>\n    </tr>\n  </tbody>\n</table>\n<p>386 rows × 2 columns</p>\n</div>"
     },
     "metadata": {},
     "execution_count": 7
    }
   ],
   "source": [
    "# Adding the Hotel Names again\n",
    "victoria_hotels_2['Hotel'] = location[0]\n",
    "victoria_hotels_2"
   ]
  },
  {
   "cell_type": "code",
   "execution_count": 8,
   "metadata": {},
   "outputs": [
    {
     "output_type": "execute_result",
     "data": {
      "text/plain": [
       "          City                             Hotel\n",
       "0      YanYean                     LambInn&Store\n",
       "1    Mooroopna                  MorrellsJunction\n",
       "2     Ballarat                        Rose&Crown\n",
       "3       Indigo  CommercialHotel&PostOffice&Store\n",
       "4     Rupanyup                             Royal\n",
       "..         ...                               ...\n",
       "381   Ballarat                       BrewersArms\n",
       "382     Ararat                        AsylumHill\n",
       "383    RedHill                          Victoria\n",
       "384   Beaufort                              Camp\n",
       "385  Boorhaman               BontheramboHotel&PO\n",
       "\n",
       "[386 rows x 2 columns]"
      ],
      "text/html": "<div>\n<style scoped>\n    .dataframe tbody tr th:only-of-type {\n        vertical-align: middle;\n    }\n\n    .dataframe tbody tr th {\n        vertical-align: top;\n    }\n\n    .dataframe thead th {\n        text-align: right;\n    }\n</style>\n<table border=\"1\" class=\"dataframe\">\n  <thead>\n    <tr style=\"text-align: right;\">\n      <th></th>\n      <th>City</th>\n      <th>Hotel</th>\n    </tr>\n  </thead>\n  <tbody>\n    <tr>\n      <th>0</th>\n      <td>YanYean</td>\n      <td>LambInn&amp;Store</td>\n    </tr>\n    <tr>\n      <th>1</th>\n      <td>Mooroopna</td>\n      <td>MorrellsJunction</td>\n    </tr>\n    <tr>\n      <th>2</th>\n      <td>Ballarat</td>\n      <td>Rose&amp;Crown</td>\n    </tr>\n    <tr>\n      <th>3</th>\n      <td>Indigo</td>\n      <td>CommercialHotel&amp;PostOffice&amp;Store</td>\n    </tr>\n    <tr>\n      <th>4</th>\n      <td>Rupanyup</td>\n      <td>Royal</td>\n    </tr>\n    <tr>\n      <th>...</th>\n      <td>...</td>\n      <td>...</td>\n    </tr>\n    <tr>\n      <th>381</th>\n      <td>Ballarat</td>\n      <td>BrewersArms</td>\n    </tr>\n    <tr>\n      <th>382</th>\n      <td>Ararat</td>\n      <td>AsylumHill</td>\n    </tr>\n    <tr>\n      <th>383</th>\n      <td>RedHill</td>\n      <td>Victoria</td>\n    </tr>\n    <tr>\n      <th>384</th>\n      <td>Beaufort</td>\n      <td>Camp</td>\n    </tr>\n    <tr>\n      <th>385</th>\n      <td>Boorhaman</td>\n      <td>BontheramboHotel&amp;PO</td>\n    </tr>\n  </tbody>\n</table>\n<p>386 rows × 2 columns</p>\n</div>"
     },
     "metadata": {},
     "execution_count": 8
    }
   ],
   "source": [
    "# Removing spaces in the columns\n",
    "victoria_hotels_2['Hotel'] = victoria_hotels_2['Hotel'].str.strip()\n",
    "victoria_hotels_2['City'] = victoria_hotels_2['City'].str.strip()\n",
    "victoria_hotels_2"
   ]
  },
  {
   "cell_type": "code",
   "execution_count": 9,
   "metadata": {},
   "outputs": [],
   "source": [
    "# Exporting dataframe\n",
    "victoria_hotels_2.to_csv('cleaned_data/vic_hotels_clean.csv')"
   ]
  },
  {
   "source": [
    "# Victorian Population"
   ],
   "cell_type": "markdown",
   "metadata": {}
  },
  {
   "cell_type": "code",
   "execution_count": 10,
   "metadata": {},
   "outputs": [
    {
     "output_type": "execute_result",
     "data": {
      "text/plain": [
       "    LGAcode          Shire    2018    2019  2018-2019  percentagechange  \\\n",
       "0     20110        AlpineS   12730   12814         84               0.7   \n",
       "1     20260       AraratRC   11795   11845         50               0.4   \n",
       "2     20570      BallaratC  107324  109505       2181               2.0   \n",
       "3     20660       BanyuleC  130250  131631       1381               1.1   \n",
       "4     20740     BassCoastS   35326   36320        994               2.8   \n",
       "..      ...            ...     ...     ...        ...               ...   \n",
       "73    27170       WodongaC   41429   42083        654               1.6   \n",
       "74    27260       WyndhamC  255367  270487      15120               5.9   \n",
       "75    27350         YarraC   98567  101495       2928               3.0   \n",
       "76    27450   YarraRangesS  158171  159462       1291               0.8   \n",
       "77    27630  YarriambiackS    6658    6639        -19              -0.3   \n",
       "\n",
       "    Naturalincrease  Netinternalmigration  Netoverseasmigration  Areakm^2  \\\n",
       "0               -49                    61                    72    4788.2   \n",
       "1                -5                    -8                    63    4211.1   \n",
       "2               444                  1187                   550     739.0   \n",
       "3               573                  -492                  1300      62.5   \n",
       "4               -27                   901                   120     865.8   \n",
       "..              ...                   ...                   ...       ...   \n",
       "73              266                   193                   195     432.7   \n",
       "74             4039                  6392                  4689     542.1   \n",
       "75              693                   334                  1901      19.5   \n",
       "76             1137                  -480                   634    2468.2   \n",
       "77              -51                    18                    14    7325.8   \n",
       "\n",
       "    Populationdensity  \n",
       "0                 2.7  \n",
       "1                 2.8  \n",
       "2               148.2  \n",
       "3              2104.7  \n",
       "4                41.9  \n",
       "..                ...  \n",
       "73               97.3  \n",
       "74              499.0  \n",
       "75             5193.6  \n",
       "76               64.6  \n",
       "77                0.9  \n",
       "\n",
       "[78 rows x 11 columns]"
      ],
      "text/html": "<div>\n<style scoped>\n    .dataframe tbody tr th:only-of-type {\n        vertical-align: middle;\n    }\n\n    .dataframe tbody tr th {\n        vertical-align: top;\n    }\n\n    .dataframe thead th {\n        text-align: right;\n    }\n</style>\n<table border=\"1\" class=\"dataframe\">\n  <thead>\n    <tr style=\"text-align: right;\">\n      <th></th>\n      <th>LGAcode</th>\n      <th>Shire</th>\n      <th>2018</th>\n      <th>2019</th>\n      <th>2018-2019</th>\n      <th>percentagechange</th>\n      <th>Naturalincrease</th>\n      <th>Netinternalmigration</th>\n      <th>Netoverseasmigration</th>\n      <th>Areakm^2</th>\n      <th>Populationdensity</th>\n    </tr>\n  </thead>\n  <tbody>\n    <tr>\n      <th>0</th>\n      <td>20110</td>\n      <td>AlpineS</td>\n      <td>12730</td>\n      <td>12814</td>\n      <td>84</td>\n      <td>0.7</td>\n      <td>-49</td>\n      <td>61</td>\n      <td>72</td>\n      <td>4788.2</td>\n      <td>2.7</td>\n    </tr>\n    <tr>\n      <th>1</th>\n      <td>20260</td>\n      <td>AraratRC</td>\n      <td>11795</td>\n      <td>11845</td>\n      <td>50</td>\n      <td>0.4</td>\n      <td>-5</td>\n      <td>-8</td>\n      <td>63</td>\n      <td>4211.1</td>\n      <td>2.8</td>\n    </tr>\n    <tr>\n      <th>2</th>\n      <td>20570</td>\n      <td>BallaratC</td>\n      <td>107324</td>\n      <td>109505</td>\n      <td>2181</td>\n      <td>2.0</td>\n      <td>444</td>\n      <td>1187</td>\n      <td>550</td>\n      <td>739.0</td>\n      <td>148.2</td>\n    </tr>\n    <tr>\n      <th>3</th>\n      <td>20660</td>\n      <td>BanyuleC</td>\n      <td>130250</td>\n      <td>131631</td>\n      <td>1381</td>\n      <td>1.1</td>\n      <td>573</td>\n      <td>-492</td>\n      <td>1300</td>\n      <td>62.5</td>\n      <td>2104.7</td>\n    </tr>\n    <tr>\n      <th>4</th>\n      <td>20740</td>\n      <td>BassCoastS</td>\n      <td>35326</td>\n      <td>36320</td>\n      <td>994</td>\n      <td>2.8</td>\n      <td>-27</td>\n      <td>901</td>\n      <td>120</td>\n      <td>865.8</td>\n      <td>41.9</td>\n    </tr>\n    <tr>\n      <th>...</th>\n      <td>...</td>\n      <td>...</td>\n      <td>...</td>\n      <td>...</td>\n      <td>...</td>\n      <td>...</td>\n      <td>...</td>\n      <td>...</td>\n      <td>...</td>\n      <td>...</td>\n      <td>...</td>\n    </tr>\n    <tr>\n      <th>73</th>\n      <td>27170</td>\n      <td>WodongaC</td>\n      <td>41429</td>\n      <td>42083</td>\n      <td>654</td>\n      <td>1.6</td>\n      <td>266</td>\n      <td>193</td>\n      <td>195</td>\n      <td>432.7</td>\n      <td>97.3</td>\n    </tr>\n    <tr>\n      <th>74</th>\n      <td>27260</td>\n      <td>WyndhamC</td>\n      <td>255367</td>\n      <td>270487</td>\n      <td>15120</td>\n      <td>5.9</td>\n      <td>4039</td>\n      <td>6392</td>\n      <td>4689</td>\n      <td>542.1</td>\n      <td>499.0</td>\n    </tr>\n    <tr>\n      <th>75</th>\n      <td>27350</td>\n      <td>YarraC</td>\n      <td>98567</td>\n      <td>101495</td>\n      <td>2928</td>\n      <td>3.0</td>\n      <td>693</td>\n      <td>334</td>\n      <td>1901</td>\n      <td>19.5</td>\n      <td>5193.6</td>\n    </tr>\n    <tr>\n      <th>76</th>\n      <td>27450</td>\n      <td>YarraRangesS</td>\n      <td>158171</td>\n      <td>159462</td>\n      <td>1291</td>\n      <td>0.8</td>\n      <td>1137</td>\n      <td>-480</td>\n      <td>634</td>\n      <td>2468.2</td>\n      <td>64.6</td>\n    </tr>\n    <tr>\n      <th>77</th>\n      <td>27630</td>\n      <td>YarriambiackS</td>\n      <td>6658</td>\n      <td>6639</td>\n      <td>-19</td>\n      <td>-0.3</td>\n      <td>-51</td>\n      <td>18</td>\n      <td>14</td>\n      <td>7325.8</td>\n      <td>0.9</td>\n    </tr>\n  </tbody>\n</table>\n<p>78 rows × 11 columns</p>\n</div>"
     },
     "metadata": {},
     "execution_count": 10
    }
   ],
   "source": [
    "# Reading the CSV File\n",
    "victorial_population = pd.read_csv('Raw_Data/victoria_population.csv')\n",
    "victorial_population"
   ]
  },
  {
   "cell_type": "code",
   "execution_count": 11,
   "metadata": {},
   "outputs": [
    {
     "output_type": "execute_result",
     "data": {
      "text/plain": [
       "    LGAcode        Council    2018    2019  2018-2019  percentagechange  \\\n",
       "0     20110        AlpineS   12730   12814         84               0.7   \n",
       "1     20260       AraratRC   11795   11845         50               0.4   \n",
       "2     20570      BallaratC  107324  109505       2181               2.0   \n",
       "3     20660       BanyuleC  130250  131631       1381               1.1   \n",
       "4     20740     BassCoastS   35326   36320        994               2.8   \n",
       "..      ...            ...     ...     ...        ...               ...   \n",
       "73    27170       WodongaC   41429   42083        654               1.6   \n",
       "74    27260       WyndhamC  255367  270487      15120               5.9   \n",
       "75    27350         YarraC   98567  101495       2928               3.0   \n",
       "76    27450   YarraRangesS  158171  159462       1291               0.8   \n",
       "77    27630  YarriambiackS    6658    6639        -19              -0.3   \n",
       "\n",
       "    Naturalincrease  Netinternalmigration  Netoverseasmigration  Areakm^2  \\\n",
       "0               -49                    61                    72    4788.2   \n",
       "1                -5                    -8                    63    4211.1   \n",
       "2               444                  1187                   550     739.0   \n",
       "3               573                  -492                  1300      62.5   \n",
       "4               -27                   901                   120     865.8   \n",
       "..              ...                   ...                   ...       ...   \n",
       "73              266                   193                   195     432.7   \n",
       "74             4039                  6392                  4689     542.1   \n",
       "75              693                   334                  1901      19.5   \n",
       "76             1137                  -480                   634    2468.2   \n",
       "77              -51                    18                    14    7325.8   \n",
       "\n",
       "    Populationdensity  \n",
       "0                 2.7  \n",
       "1                 2.8  \n",
       "2               148.2  \n",
       "3              2104.7  \n",
       "4                41.9  \n",
       "..                ...  \n",
       "73               97.3  \n",
       "74              499.0  \n",
       "75             5193.6  \n",
       "76               64.6  \n",
       "77                0.9  \n",
       "\n",
       "[78 rows x 11 columns]"
      ],
      "text/html": "<div>\n<style scoped>\n    .dataframe tbody tr th:only-of-type {\n        vertical-align: middle;\n    }\n\n    .dataframe tbody tr th {\n        vertical-align: top;\n    }\n\n    .dataframe thead th {\n        text-align: right;\n    }\n</style>\n<table border=\"1\" class=\"dataframe\">\n  <thead>\n    <tr style=\"text-align: right;\">\n      <th></th>\n      <th>LGAcode</th>\n      <th>Council</th>\n      <th>2018</th>\n      <th>2019</th>\n      <th>2018-2019</th>\n      <th>percentagechange</th>\n      <th>Naturalincrease</th>\n      <th>Netinternalmigration</th>\n      <th>Netoverseasmigration</th>\n      <th>Areakm^2</th>\n      <th>Populationdensity</th>\n    </tr>\n  </thead>\n  <tbody>\n    <tr>\n      <th>0</th>\n      <td>20110</td>\n      <td>AlpineS</td>\n      <td>12730</td>\n      <td>12814</td>\n      <td>84</td>\n      <td>0.7</td>\n      <td>-49</td>\n      <td>61</td>\n      <td>72</td>\n      <td>4788.2</td>\n      <td>2.7</td>\n    </tr>\n    <tr>\n      <th>1</th>\n      <td>20260</td>\n      <td>AraratRC</td>\n      <td>11795</td>\n      <td>11845</td>\n      <td>50</td>\n      <td>0.4</td>\n      <td>-5</td>\n      <td>-8</td>\n      <td>63</td>\n      <td>4211.1</td>\n      <td>2.8</td>\n    </tr>\n    <tr>\n      <th>2</th>\n      <td>20570</td>\n      <td>BallaratC</td>\n      <td>107324</td>\n      <td>109505</td>\n      <td>2181</td>\n      <td>2.0</td>\n      <td>444</td>\n      <td>1187</td>\n      <td>550</td>\n      <td>739.0</td>\n      <td>148.2</td>\n    </tr>\n    <tr>\n      <th>3</th>\n      <td>20660</td>\n      <td>BanyuleC</td>\n      <td>130250</td>\n      <td>131631</td>\n      <td>1381</td>\n      <td>1.1</td>\n      <td>573</td>\n      <td>-492</td>\n      <td>1300</td>\n      <td>62.5</td>\n      <td>2104.7</td>\n    </tr>\n    <tr>\n      <th>4</th>\n      <td>20740</td>\n      <td>BassCoastS</td>\n      <td>35326</td>\n      <td>36320</td>\n      <td>994</td>\n      <td>2.8</td>\n      <td>-27</td>\n      <td>901</td>\n      <td>120</td>\n      <td>865.8</td>\n      <td>41.9</td>\n    </tr>\n    <tr>\n      <th>...</th>\n      <td>...</td>\n      <td>...</td>\n      <td>...</td>\n      <td>...</td>\n      <td>...</td>\n      <td>...</td>\n      <td>...</td>\n      <td>...</td>\n      <td>...</td>\n      <td>...</td>\n      <td>...</td>\n    </tr>\n    <tr>\n      <th>73</th>\n      <td>27170</td>\n      <td>WodongaC</td>\n      <td>41429</td>\n      <td>42083</td>\n      <td>654</td>\n      <td>1.6</td>\n      <td>266</td>\n      <td>193</td>\n      <td>195</td>\n      <td>432.7</td>\n      <td>97.3</td>\n    </tr>\n    <tr>\n      <th>74</th>\n      <td>27260</td>\n      <td>WyndhamC</td>\n      <td>255367</td>\n      <td>270487</td>\n      <td>15120</td>\n      <td>5.9</td>\n      <td>4039</td>\n      <td>6392</td>\n      <td>4689</td>\n      <td>542.1</td>\n      <td>499.0</td>\n    </tr>\n    <tr>\n      <th>75</th>\n      <td>27350</td>\n      <td>YarraC</td>\n      <td>98567</td>\n      <td>101495</td>\n      <td>2928</td>\n      <td>3.0</td>\n      <td>693</td>\n      <td>334</td>\n      <td>1901</td>\n      <td>19.5</td>\n      <td>5193.6</td>\n    </tr>\n    <tr>\n      <th>76</th>\n      <td>27450</td>\n      <td>YarraRangesS</td>\n      <td>158171</td>\n      <td>159462</td>\n      <td>1291</td>\n      <td>0.8</td>\n      <td>1137</td>\n      <td>-480</td>\n      <td>634</td>\n      <td>2468.2</td>\n      <td>64.6</td>\n    </tr>\n    <tr>\n      <th>77</th>\n      <td>27630</td>\n      <td>YarriambiackS</td>\n      <td>6658</td>\n      <td>6639</td>\n      <td>-19</td>\n      <td>-0.3</td>\n      <td>-51</td>\n      <td>18</td>\n      <td>14</td>\n      <td>7325.8</td>\n      <td>0.9</td>\n    </tr>\n  </tbody>\n</table>\n<p>78 rows × 11 columns</p>\n</div>"
     },
     "metadata": {},
     "execution_count": 11
    }
   ],
   "source": [
    "# Renaming Shire to Council\n",
    "victorial_population_1 = victorial_population.rename(columns={'Shire':'Council'})\n",
    "victorial_population_1"
   ]
  },
  {
   "cell_type": "code",
   "execution_count": 12,
   "metadata": {},
   "outputs": [],
   "source": [
    "# Exporting dataframe \n",
    "victorial_population_1.to_csv('cleaned_data/vic_population_clean.csv')"
   ]
  },
  {
   "source": [
    "# Victorian Councils\n"
   ],
   "cell_type": "markdown",
   "metadata": {}
  },
  {
   "cell_type": "code",
   "execution_count": 13,
   "metadata": {},
   "outputs": [
    {
     "output_type": "execute_result",
     "data": {
      "text/plain": [
       "                  City             Council\n",
       "0       Abbeyard(3737)             AlpineS\n",
       "1     Abbotsford(3067)              YarraC\n",
       "2     Aberfeldie(3040)       MooneeValleyC\n",
       "3      Aberfeldy(3825)             BawBawS\n",
       "4        Acheron(3714)        MurrindindiS\n",
       "...                ...                 ...\n",
       "3552               NaN                 NaN\n",
       "3553               NaN                 NaN\n",
       "3554               NaN                 NaN\n",
       "3555     Zeerust(3634)  GreaterSheppartonC\n",
       "3556   Zumsteins(3401)  NorthernGrampiansS\n",
       "\n",
       "[3557 rows x 2 columns]"
      ],
      "text/html": "<div>\n<style scoped>\n    .dataframe tbody tr th:only-of-type {\n        vertical-align: middle;\n    }\n\n    .dataframe tbody tr th {\n        vertical-align: top;\n    }\n\n    .dataframe thead th {\n        text-align: right;\n    }\n</style>\n<table border=\"1\" class=\"dataframe\">\n  <thead>\n    <tr style=\"text-align: right;\">\n      <th></th>\n      <th>City</th>\n      <th>Council</th>\n    </tr>\n  </thead>\n  <tbody>\n    <tr>\n      <th>0</th>\n      <td>Abbeyard(3737)</td>\n      <td>AlpineS</td>\n    </tr>\n    <tr>\n      <th>1</th>\n      <td>Abbotsford(3067)</td>\n      <td>YarraC</td>\n    </tr>\n    <tr>\n      <th>2</th>\n      <td>Aberfeldie(3040)</td>\n      <td>MooneeValleyC</td>\n    </tr>\n    <tr>\n      <th>3</th>\n      <td>Aberfeldy(3825)</td>\n      <td>BawBawS</td>\n    </tr>\n    <tr>\n      <th>4</th>\n      <td>Acheron(3714)</td>\n      <td>MurrindindiS</td>\n    </tr>\n    <tr>\n      <th>...</th>\n      <td>...</td>\n      <td>...</td>\n    </tr>\n    <tr>\n      <th>3552</th>\n      <td>NaN</td>\n      <td>NaN</td>\n    </tr>\n    <tr>\n      <th>3553</th>\n      <td>NaN</td>\n      <td>NaN</td>\n    </tr>\n    <tr>\n      <th>3554</th>\n      <td>NaN</td>\n      <td>NaN</td>\n    </tr>\n    <tr>\n      <th>3555</th>\n      <td>Zeerust(3634)</td>\n      <td>GreaterSheppartonC</td>\n    </tr>\n    <tr>\n      <th>3556</th>\n      <td>Zumsteins(3401)</td>\n      <td>NorthernGrampiansS</td>\n    </tr>\n  </tbody>\n</table>\n<p>3557 rows × 2 columns</p>\n</div>"
     },
     "metadata": {},
     "execution_count": 13
    }
   ],
   "source": [
    "victorian_councils = pd.read_csv('Raw_Data/city_shire.csv')\n",
    "victorian_councils"
   ]
  },
  {
   "cell_type": "code",
   "execution_count": 14,
   "metadata": {},
   "outputs": [
    {
     "output_type": "execute_result",
     "data": {
      "text/plain": [
       "               0      1\n",
       "0       Abbeyard  3737)\n",
       "1     Abbotsford  3067)\n",
       "2     Aberfeldie  3040)\n",
       "3      Aberfeldy  3825)\n",
       "4        Acheron  3714)\n",
       "...          ...    ...\n",
       "3552         NaN    NaN\n",
       "3553         NaN    NaN\n",
       "3554         NaN    NaN\n",
       "3555     Zeerust  3634)\n",
       "3556   Zumsteins  3401)\n",
       "\n",
       "[3557 rows x 2 columns]"
      ],
      "text/html": "<div>\n<style scoped>\n    .dataframe tbody tr th:only-of-type {\n        vertical-align: middle;\n    }\n\n    .dataframe tbody tr th {\n        vertical-align: top;\n    }\n\n    .dataframe thead th {\n        text-align: right;\n    }\n</style>\n<table border=\"1\" class=\"dataframe\">\n  <thead>\n    <tr style=\"text-align: right;\">\n      <th></th>\n      <th>0</th>\n      <th>1</th>\n    </tr>\n  </thead>\n  <tbody>\n    <tr>\n      <th>0</th>\n      <td>Abbeyard</td>\n      <td>3737)</td>\n    </tr>\n    <tr>\n      <th>1</th>\n      <td>Abbotsford</td>\n      <td>3067)</td>\n    </tr>\n    <tr>\n      <th>2</th>\n      <td>Aberfeldie</td>\n      <td>3040)</td>\n    </tr>\n    <tr>\n      <th>3</th>\n      <td>Aberfeldy</td>\n      <td>3825)</td>\n    </tr>\n    <tr>\n      <th>4</th>\n      <td>Acheron</td>\n      <td>3714)</td>\n    </tr>\n    <tr>\n      <th>...</th>\n      <td>...</td>\n      <td>...</td>\n    </tr>\n    <tr>\n      <th>3552</th>\n      <td>NaN</td>\n      <td>NaN</td>\n    </tr>\n    <tr>\n      <th>3553</th>\n      <td>NaN</td>\n      <td>NaN</td>\n    </tr>\n    <tr>\n      <th>3554</th>\n      <td>NaN</td>\n      <td>NaN</td>\n    </tr>\n    <tr>\n      <th>3555</th>\n      <td>Zeerust</td>\n      <td>3634)</td>\n    </tr>\n    <tr>\n      <th>3556</th>\n      <td>Zumsteins</td>\n      <td>3401)</td>\n    </tr>\n  </tbody>\n</table>\n<p>3557 rows × 2 columns</p>\n</div>"
     },
     "metadata": {},
     "execution_count": 14
    }
   ],
   "source": [
    "cities = victorian_councils['City'].str.split(\"(\", n=1, expand=True)\n",
    "cities"
   ]
  },
  {
   "cell_type": "code",
   "execution_count": 15,
   "metadata": {},
   "outputs": [
    {
     "output_type": "execute_result",
     "data": {
      "text/plain": [
       "                 Council\n",
       "0                AlpineS\n",
       "1                 YarraC\n",
       "2          MooneeValleyC\n",
       "3                BawBawS\n",
       "4           MurrindindiS\n",
       "...                  ...\n",
       "3552                 NaN\n",
       "3553                 NaN\n",
       "3554                 NaN\n",
       "3555  GreaterSheppartonC\n",
       "3556  NorthernGrampiansS\n",
       "\n",
       "[3557 rows x 1 columns]"
      ],
      "text/html": "<div>\n<style scoped>\n    .dataframe tbody tr th:only-of-type {\n        vertical-align: middle;\n    }\n\n    .dataframe tbody tr th {\n        vertical-align: top;\n    }\n\n    .dataframe thead th {\n        text-align: right;\n    }\n</style>\n<table border=\"1\" class=\"dataframe\">\n  <thead>\n    <tr style=\"text-align: right;\">\n      <th></th>\n      <th>Council</th>\n    </tr>\n  </thead>\n  <tbody>\n    <tr>\n      <th>0</th>\n      <td>AlpineS</td>\n    </tr>\n    <tr>\n      <th>1</th>\n      <td>YarraC</td>\n    </tr>\n    <tr>\n      <th>2</th>\n      <td>MooneeValleyC</td>\n    </tr>\n    <tr>\n      <th>3</th>\n      <td>BawBawS</td>\n    </tr>\n    <tr>\n      <th>4</th>\n      <td>MurrindindiS</td>\n    </tr>\n    <tr>\n      <th>...</th>\n      <td>...</td>\n    </tr>\n    <tr>\n      <th>3552</th>\n      <td>NaN</td>\n    </tr>\n    <tr>\n      <th>3553</th>\n      <td>NaN</td>\n    </tr>\n    <tr>\n      <th>3554</th>\n      <td>NaN</td>\n    </tr>\n    <tr>\n      <th>3555</th>\n      <td>GreaterSheppartonC</td>\n    </tr>\n    <tr>\n      <th>3556</th>\n      <td>NorthernGrampiansS</td>\n    </tr>\n  </tbody>\n</table>\n<p>3557 rows × 1 columns</p>\n</div>"
     },
     "metadata": {},
     "execution_count": 15
    }
   ],
   "source": [
    "# Dropping the Column\n",
    "victorian_councils_1 = victorian_councils.drop(columns=['City']).copy()\n",
    "victorian_councils_1"
   ]
  },
  {
   "cell_type": "code",
   "execution_count": 16,
   "metadata": {},
   "outputs": [
    {
     "output_type": "execute_result",
     "data": {
      "text/plain": [
       "                 Council        City\n",
       "0                AlpineS    Abbeyard\n",
       "1                 YarraC  Abbotsford\n",
       "2          MooneeValleyC  Aberfeldie\n",
       "3                BawBawS   Aberfeldy\n",
       "4           MurrindindiS     Acheron\n",
       "...                  ...         ...\n",
       "3552                 NaN         NaN\n",
       "3553                 NaN         NaN\n",
       "3554                 NaN         NaN\n",
       "3555  GreaterSheppartonC     Zeerust\n",
       "3556  NorthernGrampiansS   Zumsteins\n",
       "\n",
       "[3557 rows x 2 columns]"
      ],
      "text/html": "<div>\n<style scoped>\n    .dataframe tbody tr th:only-of-type {\n        vertical-align: middle;\n    }\n\n    .dataframe tbody tr th {\n        vertical-align: top;\n    }\n\n    .dataframe thead th {\n        text-align: right;\n    }\n</style>\n<table border=\"1\" class=\"dataframe\">\n  <thead>\n    <tr style=\"text-align: right;\">\n      <th></th>\n      <th>Council</th>\n      <th>City</th>\n    </tr>\n  </thead>\n  <tbody>\n    <tr>\n      <th>0</th>\n      <td>AlpineS</td>\n      <td>Abbeyard</td>\n    </tr>\n    <tr>\n      <th>1</th>\n      <td>YarraC</td>\n      <td>Abbotsford</td>\n    </tr>\n    <tr>\n      <th>2</th>\n      <td>MooneeValleyC</td>\n      <td>Aberfeldie</td>\n    </tr>\n    <tr>\n      <th>3</th>\n      <td>BawBawS</td>\n      <td>Aberfeldy</td>\n    </tr>\n    <tr>\n      <th>4</th>\n      <td>MurrindindiS</td>\n      <td>Acheron</td>\n    </tr>\n    <tr>\n      <th>...</th>\n      <td>...</td>\n      <td>...</td>\n    </tr>\n    <tr>\n      <th>3552</th>\n      <td>NaN</td>\n      <td>NaN</td>\n    </tr>\n    <tr>\n      <th>3553</th>\n      <td>NaN</td>\n      <td>NaN</td>\n    </tr>\n    <tr>\n      <th>3554</th>\n      <td>NaN</td>\n      <td>NaN</td>\n    </tr>\n    <tr>\n      <th>3555</th>\n      <td>GreaterSheppartonC</td>\n      <td>Zeerust</td>\n    </tr>\n    <tr>\n      <th>3556</th>\n      <td>NorthernGrampiansS</td>\n      <td>Zumsteins</td>\n    </tr>\n  </tbody>\n</table>\n<p>3557 rows × 2 columns</p>\n</div>"
     },
     "metadata": {},
     "execution_count": 16
    }
   ],
   "source": [
    "# Adding the Cities Column\n",
    "victorian_councils_1['City'] = cities[0]\n",
    "victorian_councils_1 "
   ]
  },
  {
   "cell_type": "code",
   "execution_count": 17,
   "metadata": {},
   "outputs": [
    {
     "output_type": "execute_result",
     "data": {
      "text/plain": [
       "                 Council        City\n",
       "0                AlpineS    Abbeyard\n",
       "1                 YarraC  Abbotsford\n",
       "2          MooneeValleyC  Aberfeldie\n",
       "3                BawBawS   Aberfeldy\n",
       "4           MurrindindiS     Acheron\n",
       "...                  ...         ...\n",
       "3549               HumeC      Yuroke\n",
       "3550         ColacOtwayS     Yuulong\n",
       "3551        CorangamiteS     Yuulong\n",
       "3555  GreaterSheppartonC     Zeerust\n",
       "3556  NorthernGrampiansS   Zumsteins\n",
       "\n",
       "[3513 rows x 2 columns]"
      ],
      "text/html": "<div>\n<style scoped>\n    .dataframe tbody tr th:only-of-type {\n        vertical-align: middle;\n    }\n\n    .dataframe tbody tr th {\n        vertical-align: top;\n    }\n\n    .dataframe thead th {\n        text-align: right;\n    }\n</style>\n<table border=\"1\" class=\"dataframe\">\n  <thead>\n    <tr style=\"text-align: right;\">\n      <th></th>\n      <th>Council</th>\n      <th>City</th>\n    </tr>\n  </thead>\n  <tbody>\n    <tr>\n      <th>0</th>\n      <td>AlpineS</td>\n      <td>Abbeyard</td>\n    </tr>\n    <tr>\n      <th>1</th>\n      <td>YarraC</td>\n      <td>Abbotsford</td>\n    </tr>\n    <tr>\n      <th>2</th>\n      <td>MooneeValleyC</td>\n      <td>Aberfeldie</td>\n    </tr>\n    <tr>\n      <th>3</th>\n      <td>BawBawS</td>\n      <td>Aberfeldy</td>\n    </tr>\n    <tr>\n      <th>4</th>\n      <td>MurrindindiS</td>\n      <td>Acheron</td>\n    </tr>\n    <tr>\n      <th>...</th>\n      <td>...</td>\n      <td>...</td>\n    </tr>\n    <tr>\n      <th>3549</th>\n      <td>HumeC</td>\n      <td>Yuroke</td>\n    </tr>\n    <tr>\n      <th>3550</th>\n      <td>ColacOtwayS</td>\n      <td>Yuulong</td>\n    </tr>\n    <tr>\n      <th>3551</th>\n      <td>CorangamiteS</td>\n      <td>Yuulong</td>\n    </tr>\n    <tr>\n      <th>3555</th>\n      <td>GreaterSheppartonC</td>\n      <td>Zeerust</td>\n    </tr>\n    <tr>\n      <th>3556</th>\n      <td>NorthernGrampiansS</td>\n      <td>Zumsteins</td>\n    </tr>\n  </tbody>\n</table>\n<p>3513 rows × 2 columns</p>\n</div>"
     },
     "metadata": {},
     "execution_count": 17
    }
   ],
   "source": [
    "# Removing Nan values\n",
    "victorian_councils_2 = victorian_councils_1.dropna()\n",
    "victorian_councils_2"
   ]
  },
  {
   "cell_type": "code",
   "execution_count": 16,
   "metadata": {},
   "outputs": [],
   "source": [
    "test1 = pd.merge(victoria_hotels_2,victorian_councils_2, on='City', how='outer')"
   ]
  },
  {
   "cell_type": "code",
   "execution_count": 17,
   "metadata": {},
   "outputs": [
    {
     "output_type": "execute_result",
     "data": {
      "text/plain": [
       "             City                Hotel             Council\n",
       "0         YanYean        LambInn&Store          NillumbikS\n",
       "1         YanYean        LambInn&Store         WhittleseaC\n",
       "2       Mooroopna     MorrellsJunction  GreaterSheppartonC\n",
       "3       Mooroopna           Commercial  GreaterSheppartonC\n",
       "4       Mooroopna           Commercial  GreaterSheppartonC\n",
       "..            ...                  ...                 ...\n",
       "416  Glenthompson                 Macs            AraratRC\n",
       "417  Glenthompson                 Macs      SthnGrampiansS\n",
       "418        Ararat           AsylumHill            AraratRC\n",
       "419      Beaufort                 Camp           PyreneesS\n",
       "420     Boorhaman  BontheramboHotel&PO        WangarattaRC\n",
       "\n",
       "[404 rows x 3 columns]"
      ],
      "text/html": "<div>\n<style scoped>\n    .dataframe tbody tr th:only-of-type {\n        vertical-align: middle;\n    }\n\n    .dataframe tbody tr th {\n        vertical-align: top;\n    }\n\n    .dataframe thead th {\n        text-align: right;\n    }\n</style>\n<table border=\"1\" class=\"dataframe\">\n  <thead>\n    <tr style=\"text-align: right;\">\n      <th></th>\n      <th>City</th>\n      <th>Hotel</th>\n      <th>Council</th>\n    </tr>\n  </thead>\n  <tbody>\n    <tr>\n      <th>0</th>\n      <td>YanYean</td>\n      <td>LambInn&amp;Store</td>\n      <td>NillumbikS</td>\n    </tr>\n    <tr>\n      <th>1</th>\n      <td>YanYean</td>\n      <td>LambInn&amp;Store</td>\n      <td>WhittleseaC</td>\n    </tr>\n    <tr>\n      <th>2</th>\n      <td>Mooroopna</td>\n      <td>MorrellsJunction</td>\n      <td>GreaterSheppartonC</td>\n    </tr>\n    <tr>\n      <th>3</th>\n      <td>Mooroopna</td>\n      <td>Commercial</td>\n      <td>GreaterSheppartonC</td>\n    </tr>\n    <tr>\n      <th>4</th>\n      <td>Mooroopna</td>\n      <td>Commercial</td>\n      <td>GreaterSheppartonC</td>\n    </tr>\n    <tr>\n      <th>...</th>\n      <td>...</td>\n      <td>...</td>\n      <td>...</td>\n    </tr>\n    <tr>\n      <th>416</th>\n      <td>Glenthompson</td>\n      <td>Macs</td>\n      <td>AraratRC</td>\n    </tr>\n    <tr>\n      <th>417</th>\n      <td>Glenthompson</td>\n      <td>Macs</td>\n      <td>SthnGrampiansS</td>\n    </tr>\n    <tr>\n      <th>418</th>\n      <td>Ararat</td>\n      <td>AsylumHill</td>\n      <td>AraratRC</td>\n    </tr>\n    <tr>\n      <th>419</th>\n      <td>Beaufort</td>\n      <td>Camp</td>\n      <td>PyreneesS</td>\n    </tr>\n    <tr>\n      <th>420</th>\n      <td>Boorhaman</td>\n      <td>BontheramboHotel&amp;PO</td>\n      <td>WangarattaRC</td>\n    </tr>\n  </tbody>\n</table>\n<p>404 rows × 3 columns</p>\n</div>"
     },
     "metadata": {},
     "execution_count": 17
    }
   ],
   "source": [
    "test2 = test1.dropna()\n",
    "test2"
   ]
  },
  {
   "cell_type": "code",
   "execution_count": 18,
   "metadata": {},
   "outputs": [],
   "source": [
    "test4 = pd.merge(test2,victorial_population_1,on='Council', how='inner')"
   ]
  },
  {
   "cell_type": "code",
   "execution_count": 19,
   "metadata": {},
   "outputs": [
    {
     "output_type": "execute_result",
     "data": {
      "text/plain": [
       "           City             Hotel             Council  LGAcode    2018  \\\n",
       "0       YanYean     LambInn&Store          NillumbikS    25710   64941   \n",
       "1       YanYean     LambInn&Store         WhittleseaC    27070  223347   \n",
       "2    Thomastown           Belmont         WhittleseaC    27070  223347   \n",
       "3     Mooroopna  MorrellsJunction  GreaterSheppartonC    22830   66008   \n",
       "4     Mooroopna        Commercial  GreaterSheppartonC    22830   66008   \n",
       "..          ...               ...                 ...      ...     ...   \n",
       "369      Kerang             Royal         GannawarraS    22250   10546   \n",
       "370      Kerang             Royal         GannawarraS    22250   10546   \n",
       "371   Dandenong          Shamrock   GreaterDandenongC    22670  166140   \n",
       "372  NarNarGoon        NarNarGoon           CardiniaS    21450  107117   \n",
       "373   Frankston           BayView          FrankstonC    22170  141847   \n",
       "\n",
       "       2019  2018-2019  percentagechange  Naturalincrease  \\\n",
       "0     65094        153               0.2              294   \n",
       "1    230238       6891               3.1             2270   \n",
       "2    230238       6891               3.1             2270   \n",
       "3     66498        490               0.7              312   \n",
       "4     66498        490               0.7              312   \n",
       "..      ...        ...               ...              ...   \n",
       "369   10472        -74              -0.7              -36   \n",
       "370   10472        -74              -0.7              -36   \n",
       "371  168201       2061               1.2             1308   \n",
       "372  112159       5042               4.7             1294   \n",
       "373  142643        796               0.6              746   \n",
       "\n",
       "     Netinternalmigration  Netoverseasmigration  Areakm^2  Populationdensity  \n",
       "0                    -450                   309     432.3              150.6  \n",
       "1                    1556                  3065     489.7              470.2  \n",
       "2                    1556                  3065     489.7              470.2  \n",
       "3                    -355                   533    2421.9               27.5  \n",
       "4                    -355                   533    2421.9               27.5  \n",
       "..                    ...                   ...       ...                ...  \n",
       "369                   -42                     4    3735.3                2.8  \n",
       "370                   -42                     4    3735.3                2.8  \n",
       "371                 -3162                  3915     129.5             1298.4  \n",
       "372                  3204                   544    1282.6               87.4  \n",
       "373                  -733                   783     129.6             1100.7  \n",
       "\n",
       "[374 rows x 13 columns]"
      ],
      "text/html": "<div>\n<style scoped>\n    .dataframe tbody tr th:only-of-type {\n        vertical-align: middle;\n    }\n\n    .dataframe tbody tr th {\n        vertical-align: top;\n    }\n\n    .dataframe thead th {\n        text-align: right;\n    }\n</style>\n<table border=\"1\" class=\"dataframe\">\n  <thead>\n    <tr style=\"text-align: right;\">\n      <th></th>\n      <th>City</th>\n      <th>Hotel</th>\n      <th>Council</th>\n      <th>LGAcode</th>\n      <th>2018</th>\n      <th>2019</th>\n      <th>2018-2019</th>\n      <th>percentagechange</th>\n      <th>Naturalincrease</th>\n      <th>Netinternalmigration</th>\n      <th>Netoverseasmigration</th>\n      <th>Areakm^2</th>\n      <th>Populationdensity</th>\n    </tr>\n  </thead>\n  <tbody>\n    <tr>\n      <th>0</th>\n      <td>YanYean</td>\n      <td>LambInn&amp;Store</td>\n      <td>NillumbikS</td>\n      <td>25710</td>\n      <td>64941</td>\n      <td>65094</td>\n      <td>153</td>\n      <td>0.2</td>\n      <td>294</td>\n      <td>-450</td>\n      <td>309</td>\n      <td>432.3</td>\n      <td>150.6</td>\n    </tr>\n    <tr>\n      <th>1</th>\n      <td>YanYean</td>\n      <td>LambInn&amp;Store</td>\n      <td>WhittleseaC</td>\n      <td>27070</td>\n      <td>223347</td>\n      <td>230238</td>\n      <td>6891</td>\n      <td>3.1</td>\n      <td>2270</td>\n      <td>1556</td>\n      <td>3065</td>\n      <td>489.7</td>\n      <td>470.2</td>\n    </tr>\n    <tr>\n      <th>2</th>\n      <td>Thomastown</td>\n      <td>Belmont</td>\n      <td>WhittleseaC</td>\n      <td>27070</td>\n      <td>223347</td>\n      <td>230238</td>\n      <td>6891</td>\n      <td>3.1</td>\n      <td>2270</td>\n      <td>1556</td>\n      <td>3065</td>\n      <td>489.7</td>\n      <td>470.2</td>\n    </tr>\n    <tr>\n      <th>3</th>\n      <td>Mooroopna</td>\n      <td>MorrellsJunction</td>\n      <td>GreaterSheppartonC</td>\n      <td>22830</td>\n      <td>66008</td>\n      <td>66498</td>\n      <td>490</td>\n      <td>0.7</td>\n      <td>312</td>\n      <td>-355</td>\n      <td>533</td>\n      <td>2421.9</td>\n      <td>27.5</td>\n    </tr>\n    <tr>\n      <th>4</th>\n      <td>Mooroopna</td>\n      <td>Commercial</td>\n      <td>GreaterSheppartonC</td>\n      <td>22830</td>\n      <td>66008</td>\n      <td>66498</td>\n      <td>490</td>\n      <td>0.7</td>\n      <td>312</td>\n      <td>-355</td>\n      <td>533</td>\n      <td>2421.9</td>\n      <td>27.5</td>\n    </tr>\n    <tr>\n      <th>...</th>\n      <td>...</td>\n      <td>...</td>\n      <td>...</td>\n      <td>...</td>\n      <td>...</td>\n      <td>...</td>\n      <td>...</td>\n      <td>...</td>\n      <td>...</td>\n      <td>...</td>\n      <td>...</td>\n      <td>...</td>\n      <td>...</td>\n    </tr>\n    <tr>\n      <th>369</th>\n      <td>Kerang</td>\n      <td>Royal</td>\n      <td>GannawarraS</td>\n      <td>22250</td>\n      <td>10546</td>\n      <td>10472</td>\n      <td>-74</td>\n      <td>-0.7</td>\n      <td>-36</td>\n      <td>-42</td>\n      <td>4</td>\n      <td>3735.3</td>\n      <td>2.8</td>\n    </tr>\n    <tr>\n      <th>370</th>\n      <td>Kerang</td>\n      <td>Royal</td>\n      <td>GannawarraS</td>\n      <td>22250</td>\n      <td>10546</td>\n      <td>10472</td>\n      <td>-74</td>\n      <td>-0.7</td>\n      <td>-36</td>\n      <td>-42</td>\n      <td>4</td>\n      <td>3735.3</td>\n      <td>2.8</td>\n    </tr>\n    <tr>\n      <th>371</th>\n      <td>Dandenong</td>\n      <td>Shamrock</td>\n      <td>GreaterDandenongC</td>\n      <td>22670</td>\n      <td>166140</td>\n      <td>168201</td>\n      <td>2061</td>\n      <td>1.2</td>\n      <td>1308</td>\n      <td>-3162</td>\n      <td>3915</td>\n      <td>129.5</td>\n      <td>1298.4</td>\n    </tr>\n    <tr>\n      <th>372</th>\n      <td>NarNarGoon</td>\n      <td>NarNarGoon</td>\n      <td>CardiniaS</td>\n      <td>21450</td>\n      <td>107117</td>\n      <td>112159</td>\n      <td>5042</td>\n      <td>4.7</td>\n      <td>1294</td>\n      <td>3204</td>\n      <td>544</td>\n      <td>1282.6</td>\n      <td>87.4</td>\n    </tr>\n    <tr>\n      <th>373</th>\n      <td>Frankston</td>\n      <td>BayView</td>\n      <td>FrankstonC</td>\n      <td>22170</td>\n      <td>141847</td>\n      <td>142643</td>\n      <td>796</td>\n      <td>0.6</td>\n      <td>746</td>\n      <td>-733</td>\n      <td>783</td>\n      <td>129.6</td>\n      <td>1100.7</td>\n    </tr>\n  </tbody>\n</table>\n<p>374 rows × 13 columns</p>\n</div>"
     },
     "metadata": {},
     "execution_count": 19
    }
   ],
   "source": [
    "test4"
   ]
  },
  {
   "cell_type": "code",
   "execution_count": null,
   "metadata": {},
   "outputs": [],
   "source": []
  }
 ]
}