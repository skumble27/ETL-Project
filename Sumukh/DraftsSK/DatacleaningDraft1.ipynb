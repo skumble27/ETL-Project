{
 "metadata": {
  "language_info": {
   "codemirror_mode": {
    "name": "ipython",
    "version": 3
   },
   "file_extension": ".py",
   "mimetype": "text/x-python",
   "name": "python",
   "nbconvert_exporter": "python",
   "pygments_lexer": "ipython3",
   "version": "3.6.12-final"
  },
  "orig_nbformat": 2,
  "kernelspec": {
   "name": "python361264bitbootcampmonashconda2e6efb6a376242db90ce542f5ab8dbba",
   "display_name": "Python 3.6.12 64-bit ('BootCampMonash': conda)"
  }
 },
 "nbformat": 4,
 "nbformat_minor": 2,
 "cells": [
  {
   "source": [
    "# Victorian Hotels"
   ],
   "cell_type": "markdown",
   "metadata": {}
  },
  {
   "cell_type": "code",
   "execution_count": 1,
   "metadata": {},
   "outputs": [],
   "source": [
    "# Importing the relevant module for Dataset cleaning\n",
    "import pandas as pd"
   ]
  },
  {
   "cell_type": "code",
   "execution_count": 2,
   "metadata": {},
   "outputs": [],
   "source": [
    "# Creating a dataframe for the hotels in Victoria\n",
    "victorian_hotels_df = pd.read_csv('Data/victorian_hotels.csv')"
   ]
  },
  {
   "cell_type": "code",
   "execution_count": 3,
   "metadata": {},
   "outputs": [
    {
     "output_type": "execute_result",
     "data": {
      "text/plain": [
       "                                               Title  \\\n",
       "0                            Old Melbourne Motor Inn   \n",
       "1  Hotel Federal, Federal Coffee Palace, Melbourn...   \n",
       "2  Hotel Federal, Federal Coffee Palace, Melbourn...   \n",
       "3  Hotel Federal, Federal Coffee Palace, Melbourn...   \n",
       "4             Fountain Inn, Port Melbourne, Victoria   \n",
       "\n",
       "                                         Description Identifier Format   Type  \\\n",
       "0                                                NaN   mp018572    JPG  Image   \n",
       "1  Designed by William Pitt and built 1888-1890 i...   ca000116    JPG  Image   \n",
       "2  Designed by William Pitt and built 1888-1890 i...   ca000117    JPG  Image   \n",
       "3  Designed by William Pitt and built 1888-1890 i...   ca000118    JPG  Image   \n",
       "4  Looking along road towards two storey hotel wi...   ca000336    JPG  Image   \n",
       "\n",
       "                             Access rights statement  \\\n",
       "0  Use of this work allowed provided the creator ...   \n",
       "1  Use of this work allowed provided the creator ...   \n",
       "2  Use of this work allowed provided the creator ...   \n",
       "3  Use of this work allowed provided the creator ...   \n",
       "4  Use of this work allowed provided the creator ...   \n",
       "\n",
       "                                 Copyright statement  \\\n",
       "0  This work is in copyright. Copyright has been ...   \n",
       "1  This work is in copyright. Copyright has been ...   \n",
       "2  This work is in copyright. Copyright has been ...   \n",
       "3  This work is in copyright. Copyright has been ...   \n",
       "4  This work is in copyright. Copyright has been ...   \n",
       "\n",
       "                         Collection  \\\n",
       "0          Dennis Mayor collection.   \n",
       "1  Colin Caldwell Trust collection.   \n",
       "2  Colin Caldwell Trust collection.   \n",
       "3  Colin Caldwell Trust collection.   \n",
       "4  Colin Caldwell Trust collection.   \n",
       "\n",
       "                                         Digital URI  ILMS Identifier  \\\n",
       "0  http://api.slv.vic.gov.au/access_record/3131318\\n          1790521   \n",
       "1     http://api.slv.vic.gov.au/access_record/486372          1801006   \n",
       "2     http://api.slv.vic.gov.au/access_record/486378          1801006   \n",
       "3    http://api.slv.vic.gov.au/access_record/2677601          1801006   \n",
       "4     http://api.slv.vic.gov.au/access_record/486723          1802524   \n",
       "\n",
       "                                            ILMS URI Contributor/Creator  \\\n",
       "0  http://search.slv.vic.gov.au/MAIN:Everything:S...       Mayor, Dennis   \n",
       "1  http://search.slv.vic.gov.au/MAIN:Everything:S...     Caldwell, Colin   \n",
       "2  http://search.slv.vic.gov.au/MAIN:Everything:S...     Caldwell, Colin   \n",
       "3  http://search.slv.vic.gov.au/MAIN:Everything:S...     Caldwell, Colin   \n",
       "4  http://search.slv.vic.gov.au/MAIN:Everything:S...     Caldwell, Colin   \n",
       "\n",
       "   Date                  Location Accession number Notes  \n",
       "0  1973       Melbourne, Victoria       H95.56/326   NaN  \n",
       "1  1963       Melbourne, Victoria    H84.276/1/35A   NaN  \n",
       "2  1963       Melbourne, Victoria    H84.276/1/35B   NaN  \n",
       "3  1963       Melbourne, Victoria    H84.276/1/35C   NaN  \n",
       "4  1959  Port Melbourne, Victoria    H84.276/2/36C   NaN  "
      ],
      "text/html": "<div>\n<style scoped>\n    .dataframe tbody tr th:only-of-type {\n        vertical-align: middle;\n    }\n\n    .dataframe tbody tr th {\n        vertical-align: top;\n    }\n\n    .dataframe thead th {\n        text-align: right;\n    }\n</style>\n<table border=\"1\" class=\"dataframe\">\n  <thead>\n    <tr style=\"text-align: right;\">\n      <th></th>\n      <th>Title</th>\n      <th>Description</th>\n      <th>Identifier</th>\n      <th>Format</th>\n      <th>Type</th>\n      <th>Access rights statement</th>\n      <th>Copyright statement</th>\n      <th>Collection</th>\n      <th>Digital URI</th>\n      <th>ILMS Identifier</th>\n      <th>ILMS URI</th>\n      <th>Contributor/Creator</th>\n      <th>Date</th>\n      <th>Location</th>\n      <th>Accession number</th>\n      <th>Notes</th>\n    </tr>\n  </thead>\n  <tbody>\n    <tr>\n      <th>0</th>\n      <td>Old Melbourne Motor Inn</td>\n      <td>NaN</td>\n      <td>mp018572</td>\n      <td>JPG</td>\n      <td>Image</td>\n      <td>Use of this work allowed provided the creator ...</td>\n      <td>This work is in copyright. Copyright has been ...</td>\n      <td>Dennis Mayor collection.</td>\n      <td>http://api.slv.vic.gov.au/access_record/3131318\\n</td>\n      <td>1790521</td>\n      <td>http://search.slv.vic.gov.au/MAIN:Everything:S...</td>\n      <td>Mayor, Dennis</td>\n      <td>1973</td>\n      <td>Melbourne, Victoria</td>\n      <td>H95.56/326</td>\n      <td>NaN</td>\n    </tr>\n    <tr>\n      <th>1</th>\n      <td>Hotel Federal, Federal Coffee Palace, Melbourn...</td>\n      <td>Designed by William Pitt and built 1888-1890 i...</td>\n      <td>ca000116</td>\n      <td>JPG</td>\n      <td>Image</td>\n      <td>Use of this work allowed provided the creator ...</td>\n      <td>This work is in copyright. Copyright has been ...</td>\n      <td>Colin Caldwell Trust collection.</td>\n      <td>http://api.slv.vic.gov.au/access_record/486372</td>\n      <td>1801006</td>\n      <td>http://search.slv.vic.gov.au/MAIN:Everything:S...</td>\n      <td>Caldwell, Colin</td>\n      <td>1963</td>\n      <td>Melbourne, Victoria</td>\n      <td>H84.276/1/35A</td>\n      <td>NaN</td>\n    </tr>\n    <tr>\n      <th>2</th>\n      <td>Hotel Federal, Federal Coffee Palace, Melbourn...</td>\n      <td>Designed by William Pitt and built 1888-1890 i...</td>\n      <td>ca000117</td>\n      <td>JPG</td>\n      <td>Image</td>\n      <td>Use of this work allowed provided the creator ...</td>\n      <td>This work is in copyright. Copyright has been ...</td>\n      <td>Colin Caldwell Trust collection.</td>\n      <td>http://api.slv.vic.gov.au/access_record/486378</td>\n      <td>1801006</td>\n      <td>http://search.slv.vic.gov.au/MAIN:Everything:S...</td>\n      <td>Caldwell, Colin</td>\n      <td>1963</td>\n      <td>Melbourne, Victoria</td>\n      <td>H84.276/1/35B</td>\n      <td>NaN</td>\n    </tr>\n    <tr>\n      <th>3</th>\n      <td>Hotel Federal, Federal Coffee Palace, Melbourn...</td>\n      <td>Designed by William Pitt and built 1888-1890 i...</td>\n      <td>ca000118</td>\n      <td>JPG</td>\n      <td>Image</td>\n      <td>Use of this work allowed provided the creator ...</td>\n      <td>This work is in copyright. Copyright has been ...</td>\n      <td>Colin Caldwell Trust collection.</td>\n      <td>http://api.slv.vic.gov.au/access_record/2677601</td>\n      <td>1801006</td>\n      <td>http://search.slv.vic.gov.au/MAIN:Everything:S...</td>\n      <td>Caldwell, Colin</td>\n      <td>1963</td>\n      <td>Melbourne, Victoria</td>\n      <td>H84.276/1/35C</td>\n      <td>NaN</td>\n    </tr>\n    <tr>\n      <th>4</th>\n      <td>Fountain Inn, Port Melbourne, Victoria</td>\n      <td>Looking along road towards two storey hotel wi...</td>\n      <td>ca000336</td>\n      <td>JPG</td>\n      <td>Image</td>\n      <td>Use of this work allowed provided the creator ...</td>\n      <td>This work is in copyright. Copyright has been ...</td>\n      <td>Colin Caldwell Trust collection.</td>\n      <td>http://api.slv.vic.gov.au/access_record/486723</td>\n      <td>1802524</td>\n      <td>http://search.slv.vic.gov.au/MAIN:Everything:S...</td>\n      <td>Caldwell, Colin</td>\n      <td>1959</td>\n      <td>Port Melbourne, Victoria</td>\n      <td>H84.276/2/36C</td>\n      <td>NaN</td>\n    </tr>\n  </tbody>\n</table>\n</div>"
     },
     "metadata": {},
     "execution_count": 3
    }
   ],
   "source": [
    "# Viewing the dataframe\n",
    "victorian_hotels_df.head()"
   ]
  },
  {
   "cell_type": "code",
   "execution_count": 4,
   "metadata": {},
   "outputs": [],
   "source": [
    "# Adding the Regional Hotels to the list\n",
    "victorian_hotels_country_df = pd.read_csv('Data/victorian_country_hotels.csv', encoding = \"ISO-8859-1\")"
   ]
  },
  {
   "cell_type": "code",
   "execution_count": 5,
   "metadata": {},
   "outputs": [
    {
     "output_type": "execute_result",
     "data": {
      "text/plain": [
       "                                            Title                 Location  \\\n",
       "0                      Lamb Inn & Store, Yan Yean    Yan Yean South (Vic.)   \n",
       "1                    Morrells Junction, Mooroopna         Mooroopna (Vic.)   \n",
       "2                          Rose & Crown, Ballarat  Peel St (Ballarat Vic.)   \n",
       "3  Commercial Hotel & Post Office & Store, Indigo            Indigo (Vic.)   \n",
       "4                                 Royal, Rupanyup          Rupanyup (Vic.)   \n",
       "\n",
       "                      Name    Relationship            Date  \\\n",
       "0                   Abbott        Licensee  Not identified   \n",
       "1                    Allen        Licensee  Not identified   \n",
       "2                Arthur, J  Not identified  Not identified   \n",
       "3           Ashdown, James        Licensee  Not identified   \n",
       "4  Ashmore, George Charles        Licensee  Not identified   \n",
       "\n",
       "                                              Source  \n",
       "0  a hotel entry in the Robert K. Cole Index of V...  \n",
       "1  a hotel entry in the Robert K. Cole Index of V...  \n",
       "2  a hotel entry in the Robert K. Cole Index of V...  \n",
       "3  a hotel entry in the Robert K. Cole Index of V...  \n",
       "4  a hotel entry in the Robert K. Cole Index of V...  "
      ],
      "text/html": "<div>\n<style scoped>\n    .dataframe tbody tr th:only-of-type {\n        vertical-align: middle;\n    }\n\n    .dataframe tbody tr th {\n        vertical-align: top;\n    }\n\n    .dataframe thead th {\n        text-align: right;\n    }\n</style>\n<table border=\"1\" class=\"dataframe\">\n  <thead>\n    <tr style=\"text-align: right;\">\n      <th></th>\n      <th>Title</th>\n      <th>Location</th>\n      <th>Name</th>\n      <th>Relationship</th>\n      <th>Date</th>\n      <th>Source</th>\n    </tr>\n  </thead>\n  <tbody>\n    <tr>\n      <th>0</th>\n      <td>Lamb Inn &amp; Store, Yan Yean</td>\n      <td>Yan Yean South (Vic.)</td>\n      <td>Abbott</td>\n      <td>Licensee</td>\n      <td>Not identified</td>\n      <td>a hotel entry in the Robert K. Cole Index of V...</td>\n    </tr>\n    <tr>\n      <th>1</th>\n      <td>Morrells Junction, Mooroopna</td>\n      <td>Mooroopna (Vic.)</td>\n      <td>Allen</td>\n      <td>Licensee</td>\n      <td>Not identified</td>\n      <td>a hotel entry in the Robert K. Cole Index of V...</td>\n    </tr>\n    <tr>\n      <th>2</th>\n      <td>Rose &amp; Crown, Ballarat</td>\n      <td>Peel St (Ballarat Vic.)</td>\n      <td>Arthur, J</td>\n      <td>Not identified</td>\n      <td>Not identified</td>\n      <td>a hotel entry in the Robert K. Cole Index of V...</td>\n    </tr>\n    <tr>\n      <th>3</th>\n      <td>Commercial Hotel &amp; Post Office &amp; Store, Indigo</td>\n      <td>Indigo (Vic.)</td>\n      <td>Ashdown, James</td>\n      <td>Licensee</td>\n      <td>Not identified</td>\n      <td>a hotel entry in the Robert K. Cole Index of V...</td>\n    </tr>\n    <tr>\n      <th>4</th>\n      <td>Royal, Rupanyup</td>\n      <td>Rupanyup (Vic.)</td>\n      <td>Ashmore, George Charles</td>\n      <td>Licensee</td>\n      <td>Not identified</td>\n      <td>a hotel entry in the Robert K. Cole Index of V...</td>\n    </tr>\n  </tbody>\n</table>\n</div>"
     },
     "metadata": {},
     "execution_count": 5
    }
   ],
   "source": [
    "# Viewing the list of hotels in regional Victoria\n",
    "victorian_hotels_country_df.head()"
   ]
  },
  {
   "cell_type": "code",
   "execution_count": 6,
   "metadata": {},
   "outputs": [],
   "source": [
    "# Keeping the relevant columns in the dataframe\n",
    "country_hotels = victorian_hotels_country_df.copy()"
   ]
  },
  {
   "cell_type": "code",
   "execution_count": 7,
   "metadata": {},
   "outputs": [],
   "source": [
    "# Retaining relevant columns\n",
    "country_hotels = country_hotels.drop(columns=['Name','Relationship','Date','Source'])"
   ]
  },
  {
   "cell_type": "code",
   "execution_count": 8,
   "metadata": {},
   "outputs": [
    {
     "output_type": "execute_result",
     "data": {
      "text/plain": [
       "                                            Title                 Location\n",
       "0                      Lamb Inn & Store, Yan Yean    Yan Yean South (Vic.)\n",
       "1                    Morrells Junction, Mooroopna         Mooroopna (Vic.)\n",
       "2                          Rose & Crown, Ballarat  Peel St (Ballarat Vic.)\n",
       "3  Commercial Hotel & Post Office & Store, Indigo            Indigo (Vic.)\n",
       "4                                 Royal, Rupanyup          Rupanyup (Vic.)"
      ],
      "text/html": "<div>\n<style scoped>\n    .dataframe tbody tr th:only-of-type {\n        vertical-align: middle;\n    }\n\n    .dataframe tbody tr th {\n        vertical-align: top;\n    }\n\n    .dataframe thead th {\n        text-align: right;\n    }\n</style>\n<table border=\"1\" class=\"dataframe\">\n  <thead>\n    <tr style=\"text-align: right;\">\n      <th></th>\n      <th>Title</th>\n      <th>Location</th>\n    </tr>\n  </thead>\n  <tbody>\n    <tr>\n      <th>0</th>\n      <td>Lamb Inn &amp; Store, Yan Yean</td>\n      <td>Yan Yean South (Vic.)</td>\n    </tr>\n    <tr>\n      <th>1</th>\n      <td>Morrells Junction, Mooroopna</td>\n      <td>Mooroopna (Vic.)</td>\n    </tr>\n    <tr>\n      <th>2</th>\n      <td>Rose &amp; Crown, Ballarat</td>\n      <td>Peel St (Ballarat Vic.)</td>\n    </tr>\n    <tr>\n      <th>3</th>\n      <td>Commercial Hotel &amp; Post Office &amp; Store, Indigo</td>\n      <td>Indigo (Vic.)</td>\n    </tr>\n    <tr>\n      <th>4</th>\n      <td>Royal, Rupanyup</td>\n      <td>Rupanyup (Vic.)</td>\n    </tr>\n  </tbody>\n</table>\n</div>"
     },
     "metadata": {},
     "execution_count": 8
    }
   ],
   "source": [
    "# Viewing the Dataframe\n",
    "country_hotels.head()"
   ]
  },
  {
   "cell_type": "code",
   "execution_count": 9,
   "metadata": {},
   "outputs": [],
   "source": [
    "# Splitting the Location Columns\n",
    "location = country_hotels['Location'].str.split(\"(\", n=1, expand=True)"
   ]
  },
  {
   "cell_type": "code",
   "execution_count": 10,
   "metadata": {},
   "outputs": [
    {
     "output_type": "execute_result",
     "data": {
      "text/plain": [
       "                                                Title  \\\n",
       "0                          Lamb Inn & Store, Yan Yean   \n",
       "1                        Morrells Junction, Mooroopna   \n",
       "2                              Rose & Crown, Ballarat   \n",
       "3      Commercial Hotel & Post Office & Store, Indigo   \n",
       "4                                     Royal, Rupanyup   \n",
       "...                                               ...   \n",
       "16343                      Strath Creek, Strath Creek   \n",
       "16344                      Strath Creek, Strath Creek   \n",
       "16345                           Sea View, Bridgewater   \n",
       "16346                         Travellers Rest, Ballan   \n",
       "16347                                Western, Caramut   \n",
       "\n",
       "                      Location             City  \n",
       "0        Yan Yean South (Vic.)  Yan Yean South   \n",
       "1             Mooroopna (Vic.)       Mooroopna   \n",
       "2      Peel St (Ballarat Vic.)         Peel St   \n",
       "3                Indigo (Vic.)          Indigo   \n",
       "4              Rupanyup (Vic.)        Rupanyup   \n",
       "...                        ...              ...  \n",
       "16343      Strath Creek (Vic.)    Strath Creek   \n",
       "16344      Strath Creek (Vic.)    Strath Creek   \n",
       "16345       Bridgewater (Vic.)     Bridgewater   \n",
       "16346            Ballan (Vic.)          Ballan   \n",
       "16347           Caramut (Vic.)         Caramut   \n",
       "\n",
       "[16348 rows x 3 columns]"
      ],
      "text/html": "<div>\n<style scoped>\n    .dataframe tbody tr th:only-of-type {\n        vertical-align: middle;\n    }\n\n    .dataframe tbody tr th {\n        vertical-align: top;\n    }\n\n    .dataframe thead th {\n        text-align: right;\n    }\n</style>\n<table border=\"1\" class=\"dataframe\">\n  <thead>\n    <tr style=\"text-align: right;\">\n      <th></th>\n      <th>Title</th>\n      <th>Location</th>\n      <th>City</th>\n    </tr>\n  </thead>\n  <tbody>\n    <tr>\n      <th>0</th>\n      <td>Lamb Inn &amp; Store, Yan Yean</td>\n      <td>Yan Yean South (Vic.)</td>\n      <td>Yan Yean South</td>\n    </tr>\n    <tr>\n      <th>1</th>\n      <td>Morrells Junction, Mooroopna</td>\n      <td>Mooroopna (Vic.)</td>\n      <td>Mooroopna</td>\n    </tr>\n    <tr>\n      <th>2</th>\n      <td>Rose &amp; Crown, Ballarat</td>\n      <td>Peel St (Ballarat Vic.)</td>\n      <td>Peel St</td>\n    </tr>\n    <tr>\n      <th>3</th>\n      <td>Commercial Hotel &amp; Post Office &amp; Store, Indigo</td>\n      <td>Indigo (Vic.)</td>\n      <td>Indigo</td>\n    </tr>\n    <tr>\n      <th>4</th>\n      <td>Royal, Rupanyup</td>\n      <td>Rupanyup (Vic.)</td>\n      <td>Rupanyup</td>\n    </tr>\n    <tr>\n      <th>...</th>\n      <td>...</td>\n      <td>...</td>\n      <td>...</td>\n    </tr>\n    <tr>\n      <th>16343</th>\n      <td>Strath Creek, Strath Creek</td>\n      <td>Strath Creek (Vic.)</td>\n      <td>Strath Creek</td>\n    </tr>\n    <tr>\n      <th>16344</th>\n      <td>Strath Creek, Strath Creek</td>\n      <td>Strath Creek (Vic.)</td>\n      <td>Strath Creek</td>\n    </tr>\n    <tr>\n      <th>16345</th>\n      <td>Sea View, Bridgewater</td>\n      <td>Bridgewater (Vic.)</td>\n      <td>Bridgewater</td>\n    </tr>\n    <tr>\n      <th>16346</th>\n      <td>Travellers Rest, Ballan</td>\n      <td>Ballan (Vic.)</td>\n      <td>Ballan</td>\n    </tr>\n    <tr>\n      <th>16347</th>\n      <td>Western, Caramut</td>\n      <td>Caramut (Vic.)</td>\n      <td>Caramut</td>\n    </tr>\n  </tbody>\n</table>\n<p>16348 rows × 3 columns</p>\n</div>"
     },
     "metadata": {},
     "execution_count": 10
    }
   ],
   "source": [
    "# Cleaning up the Country Hotels Datalist\n",
    "country_hotels['City'] = location[0]\n",
    "country_hotels"
   ]
  },
  {
   "cell_type": "code",
   "execution_count": 11,
   "metadata": {},
   "outputs": [
    {
     "output_type": "execute_result",
     "data": {
      "text/plain": [
       "                                                Title             City\n",
       "0                          Lamb Inn & Store, Yan Yean  Yan Yean South \n",
       "1                        Morrells Junction, Mooroopna       Mooroopna \n",
       "2                              Rose & Crown, Ballarat         Peel St \n",
       "3      Commercial Hotel & Post Office & Store, Indigo          Indigo \n",
       "4                                     Royal, Rupanyup        Rupanyup \n",
       "...                                               ...              ...\n",
       "16343                      Strath Creek, Strath Creek    Strath Creek \n",
       "16344                      Strath Creek, Strath Creek    Strath Creek \n",
       "16345                           Sea View, Bridgewater     Bridgewater \n",
       "16346                         Travellers Rest, Ballan          Ballan \n",
       "16347                                Western, Caramut         Caramut \n",
       "\n",
       "[16348 rows x 2 columns]"
      ],
      "text/html": "<div>\n<style scoped>\n    .dataframe tbody tr th:only-of-type {\n        vertical-align: middle;\n    }\n\n    .dataframe tbody tr th {\n        vertical-align: top;\n    }\n\n    .dataframe thead th {\n        text-align: right;\n    }\n</style>\n<table border=\"1\" class=\"dataframe\">\n  <thead>\n    <tr style=\"text-align: right;\">\n      <th></th>\n      <th>Title</th>\n      <th>City</th>\n    </tr>\n  </thead>\n  <tbody>\n    <tr>\n      <th>0</th>\n      <td>Lamb Inn &amp; Store, Yan Yean</td>\n      <td>Yan Yean South</td>\n    </tr>\n    <tr>\n      <th>1</th>\n      <td>Morrells Junction, Mooroopna</td>\n      <td>Mooroopna</td>\n    </tr>\n    <tr>\n      <th>2</th>\n      <td>Rose &amp; Crown, Ballarat</td>\n      <td>Peel St</td>\n    </tr>\n    <tr>\n      <th>3</th>\n      <td>Commercial Hotel &amp; Post Office &amp; Store, Indigo</td>\n      <td>Indigo</td>\n    </tr>\n    <tr>\n      <th>4</th>\n      <td>Royal, Rupanyup</td>\n      <td>Rupanyup</td>\n    </tr>\n    <tr>\n      <th>...</th>\n      <td>...</td>\n      <td>...</td>\n    </tr>\n    <tr>\n      <th>16343</th>\n      <td>Strath Creek, Strath Creek</td>\n      <td>Strath Creek</td>\n    </tr>\n    <tr>\n      <th>16344</th>\n      <td>Strath Creek, Strath Creek</td>\n      <td>Strath Creek</td>\n    </tr>\n    <tr>\n      <th>16345</th>\n      <td>Sea View, Bridgewater</td>\n      <td>Bridgewater</td>\n    </tr>\n    <tr>\n      <th>16346</th>\n      <td>Travellers Rest, Ballan</td>\n      <td>Ballan</td>\n    </tr>\n    <tr>\n      <th>16347</th>\n      <td>Western, Caramut</td>\n      <td>Caramut</td>\n    </tr>\n  </tbody>\n</table>\n<p>16348 rows × 2 columns</p>\n</div>"
     },
     "metadata": {},
     "execution_count": 11
    }
   ],
   "source": [
    "# Final Copy of Country Hotels\n",
    "country_hotels_final = country_hotels.drop(columns=['Location']).copy()\n",
    "country_hotels_final"
   ]
  },
  {
   "cell_type": "code",
   "execution_count": 12,
   "metadata": {},
   "outputs": [],
   "source": [
    "# Exporting Data to Resources\n",
    "country_hotels_final.to_csv('Resources/vic_regional_hotels.csv')"
   ]
  },
  {
   "cell_type": "code",
   "execution_count": 13,
   "metadata": {},
   "outputs": [
    {
     "output_type": "execute_result",
     "data": {
      "text/plain": [
       "                                               Title                  Location\n",
       "0                            Old Melbourne Motor Inn       Melbourne, Victoria\n",
       "1  Hotel Federal, Federal Coffee Palace, Melbourn...       Melbourne, Victoria\n",
       "2  Hotel Federal, Federal Coffee Palace, Melbourn...       Melbourne, Victoria\n",
       "3  Hotel Federal, Federal Coffee Palace, Melbourn...       Melbourne, Victoria\n",
       "4             Fountain Inn, Port Melbourne, Victoria  Port Melbourne, Victoria"
      ],
      "text/html": "<div>\n<style scoped>\n    .dataframe tbody tr th:only-of-type {\n        vertical-align: middle;\n    }\n\n    .dataframe tbody tr th {\n        vertical-align: top;\n    }\n\n    .dataframe thead th {\n        text-align: right;\n    }\n</style>\n<table border=\"1\" class=\"dataframe\">\n  <thead>\n    <tr style=\"text-align: right;\">\n      <th></th>\n      <th>Title</th>\n      <th>Location</th>\n    </tr>\n  </thead>\n  <tbody>\n    <tr>\n      <th>0</th>\n      <td>Old Melbourne Motor Inn</td>\n      <td>Melbourne, Victoria</td>\n    </tr>\n    <tr>\n      <th>1</th>\n      <td>Hotel Federal, Federal Coffee Palace, Melbourn...</td>\n      <td>Melbourne, Victoria</td>\n    </tr>\n    <tr>\n      <th>2</th>\n      <td>Hotel Federal, Federal Coffee Palace, Melbourn...</td>\n      <td>Melbourne, Victoria</td>\n    </tr>\n    <tr>\n      <th>3</th>\n      <td>Hotel Federal, Federal Coffee Palace, Melbourn...</td>\n      <td>Melbourne, Victoria</td>\n    </tr>\n    <tr>\n      <th>4</th>\n      <td>Fountain Inn, Port Melbourne, Victoria</td>\n      <td>Port Melbourne, Victoria</td>\n    </tr>\n  </tbody>\n</table>\n</div>"
     },
     "metadata": {},
     "execution_count": 13
    }
   ],
   "source": [
    "# Cleaning first list of Victorian Hotels\n",
    "victorian_hotels = victorian_hotels_df[['Title','Location']].copy()\n",
    "victorian_hotels.head()"
   ]
  },
  {
   "cell_type": "code",
   "execution_count": 14,
   "metadata": {},
   "outputs": [
    {
     "output_type": "execute_result",
     "data": {
      "text/plain": [
       "                  0                     1\n",
       "0         Melbourne              Victoria\n",
       "1         Melbourne              Victoria\n",
       "2         Melbourne              Victoria\n",
       "3         Melbourne              Victoria\n",
       "4    Port Melbourne              Victoria\n",
       "..              ...                   ...\n",
       "189       Brunswick              Victoria\n",
       "190  St. Kilda Road   Melbourne, Victoria\n",
       "191       Melbourne              Victoria\n",
       "192        Brighton              Victoria\n",
       "193         Bendigo              Victoria\n",
       "\n",
       "[194 rows x 2 columns]"
      ],
      "text/html": "<div>\n<style scoped>\n    .dataframe tbody tr th:only-of-type {\n        vertical-align: middle;\n    }\n\n    .dataframe tbody tr th {\n        vertical-align: top;\n    }\n\n    .dataframe thead th {\n        text-align: right;\n    }\n</style>\n<table border=\"1\" class=\"dataframe\">\n  <thead>\n    <tr style=\"text-align: right;\">\n      <th></th>\n      <th>0</th>\n      <th>1</th>\n    </tr>\n  </thead>\n  <tbody>\n    <tr>\n      <th>0</th>\n      <td>Melbourne</td>\n      <td>Victoria</td>\n    </tr>\n    <tr>\n      <th>1</th>\n      <td>Melbourne</td>\n      <td>Victoria</td>\n    </tr>\n    <tr>\n      <th>2</th>\n      <td>Melbourne</td>\n      <td>Victoria</td>\n    </tr>\n    <tr>\n      <th>3</th>\n      <td>Melbourne</td>\n      <td>Victoria</td>\n    </tr>\n    <tr>\n      <th>4</th>\n      <td>Port Melbourne</td>\n      <td>Victoria</td>\n    </tr>\n    <tr>\n      <th>...</th>\n      <td>...</td>\n      <td>...</td>\n    </tr>\n    <tr>\n      <th>189</th>\n      <td>Brunswick</td>\n      <td>Victoria</td>\n    </tr>\n    <tr>\n      <th>190</th>\n      <td>St. Kilda Road</td>\n      <td>Melbourne, Victoria</td>\n    </tr>\n    <tr>\n      <th>191</th>\n      <td>Melbourne</td>\n      <td>Victoria</td>\n    </tr>\n    <tr>\n      <th>192</th>\n      <td>Brighton</td>\n      <td>Victoria</td>\n    </tr>\n    <tr>\n      <th>193</th>\n      <td>Bendigo</td>\n      <td>Victoria</td>\n    </tr>\n  </tbody>\n</table>\n<p>194 rows × 2 columns</p>\n</div>"
     },
     "metadata": {},
     "execution_count": 14
    }
   ],
   "source": [
    "# Seperating City and State\n",
    "location_1 = victorian_hotels['Location'].str.split(\",\", n=1, expand=True)\n",
    "location_1\n"
   ]
  },
  {
   "cell_type": "code",
   "execution_count": 15,
   "metadata": {},
   "outputs": [
    {
     "output_type": "execute_result",
     "data": {
      "text/plain": [
       "                                                 Title  \\\n",
       "0                              Old Melbourne Motor Inn   \n",
       "1    Hotel Federal, Federal Coffee Palace, Melbourn...   \n",
       "2    Hotel Federal, Federal Coffee Palace, Melbourn...   \n",
       "3    Hotel Federal, Federal Coffee Palace, Melbourn...   \n",
       "4               Fountain Inn, Port Melbourne, Victoria   \n",
       "..                                                 ...   \n",
       "189                                  Sarah Sands Hotel   \n",
       "190  Aerial view of the Chevron Complex, Street Kil...   \n",
       "191           Adam L. Gordon's Room - Adam & Eve Hotel   \n",
       "192                   Marine Hotel, Brighton, Victoria   \n",
       "193    Shamrock Hotel Bendigo Victoria / Bartlett Bros   \n",
       "\n",
       "                                Location            City  \n",
       "0                    Melbourne, Victoria       Melbourne  \n",
       "1                    Melbourne, Victoria       Melbourne  \n",
       "2                    Melbourne, Victoria       Melbourne  \n",
       "3                    Melbourne, Victoria       Melbourne  \n",
       "4               Port Melbourne, Victoria  Port Melbourne  \n",
       "..                                   ...             ...  \n",
       "189                  Brunswick, Victoria       Brunswick  \n",
       "190  St. Kilda Road, Melbourne, Victoria  St. Kilda Road  \n",
       "191                  Melbourne, Victoria       Melbourne  \n",
       "192                   Brighton, Victoria        Brighton  \n",
       "193                    Bendigo, Victoria         Bendigo  \n",
       "\n",
       "[194 rows x 3 columns]"
      ],
      "text/html": "<div>\n<style scoped>\n    .dataframe tbody tr th:only-of-type {\n        vertical-align: middle;\n    }\n\n    .dataframe tbody tr th {\n        vertical-align: top;\n    }\n\n    .dataframe thead th {\n        text-align: right;\n    }\n</style>\n<table border=\"1\" class=\"dataframe\">\n  <thead>\n    <tr style=\"text-align: right;\">\n      <th></th>\n      <th>Title</th>\n      <th>Location</th>\n      <th>City</th>\n    </tr>\n  </thead>\n  <tbody>\n    <tr>\n      <th>0</th>\n      <td>Old Melbourne Motor Inn</td>\n      <td>Melbourne, Victoria</td>\n      <td>Melbourne</td>\n    </tr>\n    <tr>\n      <th>1</th>\n      <td>Hotel Federal, Federal Coffee Palace, Melbourn...</td>\n      <td>Melbourne, Victoria</td>\n      <td>Melbourne</td>\n    </tr>\n    <tr>\n      <th>2</th>\n      <td>Hotel Federal, Federal Coffee Palace, Melbourn...</td>\n      <td>Melbourne, Victoria</td>\n      <td>Melbourne</td>\n    </tr>\n    <tr>\n      <th>3</th>\n      <td>Hotel Federal, Federal Coffee Palace, Melbourn...</td>\n      <td>Melbourne, Victoria</td>\n      <td>Melbourne</td>\n    </tr>\n    <tr>\n      <th>4</th>\n      <td>Fountain Inn, Port Melbourne, Victoria</td>\n      <td>Port Melbourne, Victoria</td>\n      <td>Port Melbourne</td>\n    </tr>\n    <tr>\n      <th>...</th>\n      <td>...</td>\n      <td>...</td>\n      <td>...</td>\n    </tr>\n    <tr>\n      <th>189</th>\n      <td>Sarah Sands Hotel</td>\n      <td>Brunswick, Victoria</td>\n      <td>Brunswick</td>\n    </tr>\n    <tr>\n      <th>190</th>\n      <td>Aerial view of the Chevron Complex, Street Kil...</td>\n      <td>St. Kilda Road, Melbourne, Victoria</td>\n      <td>St. Kilda Road</td>\n    </tr>\n    <tr>\n      <th>191</th>\n      <td>Adam L. Gordon's Room - Adam &amp; Eve Hotel</td>\n      <td>Melbourne, Victoria</td>\n      <td>Melbourne</td>\n    </tr>\n    <tr>\n      <th>192</th>\n      <td>Marine Hotel, Brighton, Victoria</td>\n      <td>Brighton, Victoria</td>\n      <td>Brighton</td>\n    </tr>\n    <tr>\n      <th>193</th>\n      <td>Shamrock Hotel Bendigo Victoria / Bartlett Bros</td>\n      <td>Bendigo, Victoria</td>\n      <td>Bendigo</td>\n    </tr>\n  </tbody>\n</table>\n<p>194 rows × 3 columns</p>\n</div>"
     },
     "metadata": {},
     "execution_count": 15
    }
   ],
   "source": [
    "# Adding location back to the previous dataframe\n",
    "victorian_hotels['City'] = location_1[0]\n",
    "victorian_hotels"
   ]
  },
  {
   "cell_type": "code",
   "execution_count": 16,
   "metadata": {},
   "outputs": [
    {
     "output_type": "execute_result",
     "data": {
      "text/plain": [
       "                                                 Title            City\n",
       "0                              Old Melbourne Motor Inn       Melbourne\n",
       "1    Hotel Federal, Federal Coffee Palace, Melbourn...       Melbourne\n",
       "2    Hotel Federal, Federal Coffee Palace, Melbourn...       Melbourne\n",
       "3    Hotel Federal, Federal Coffee Palace, Melbourn...       Melbourne\n",
       "4               Fountain Inn, Port Melbourne, Victoria  Port Melbourne\n",
       "..                                                 ...             ...\n",
       "189                                  Sarah Sands Hotel       Brunswick\n",
       "190  Aerial view of the Chevron Complex, Street Kil...  St. Kilda Road\n",
       "191           Adam L. Gordon's Room - Adam & Eve Hotel       Melbourne\n",
       "192                   Marine Hotel, Brighton, Victoria        Brighton\n",
       "193    Shamrock Hotel Bendigo Victoria / Bartlett Bros         Bendigo\n",
       "\n",
       "[194 rows x 2 columns]"
      ],
      "text/html": "<div>\n<style scoped>\n    .dataframe tbody tr th:only-of-type {\n        vertical-align: middle;\n    }\n\n    .dataframe tbody tr th {\n        vertical-align: top;\n    }\n\n    .dataframe thead th {\n        text-align: right;\n    }\n</style>\n<table border=\"1\" class=\"dataframe\">\n  <thead>\n    <tr style=\"text-align: right;\">\n      <th></th>\n      <th>Title</th>\n      <th>City</th>\n    </tr>\n  </thead>\n  <tbody>\n    <tr>\n      <th>0</th>\n      <td>Old Melbourne Motor Inn</td>\n      <td>Melbourne</td>\n    </tr>\n    <tr>\n      <th>1</th>\n      <td>Hotel Federal, Federal Coffee Palace, Melbourn...</td>\n      <td>Melbourne</td>\n    </tr>\n    <tr>\n      <th>2</th>\n      <td>Hotel Federal, Federal Coffee Palace, Melbourn...</td>\n      <td>Melbourne</td>\n    </tr>\n    <tr>\n      <th>3</th>\n      <td>Hotel Federal, Federal Coffee Palace, Melbourn...</td>\n      <td>Melbourne</td>\n    </tr>\n    <tr>\n      <th>4</th>\n      <td>Fountain Inn, Port Melbourne, Victoria</td>\n      <td>Port Melbourne</td>\n    </tr>\n    <tr>\n      <th>...</th>\n      <td>...</td>\n      <td>...</td>\n    </tr>\n    <tr>\n      <th>189</th>\n      <td>Sarah Sands Hotel</td>\n      <td>Brunswick</td>\n    </tr>\n    <tr>\n      <th>190</th>\n      <td>Aerial view of the Chevron Complex, Street Kil...</td>\n      <td>St. Kilda Road</td>\n    </tr>\n    <tr>\n      <th>191</th>\n      <td>Adam L. Gordon's Room - Adam &amp; Eve Hotel</td>\n      <td>Melbourne</td>\n    </tr>\n    <tr>\n      <th>192</th>\n      <td>Marine Hotel, Brighton, Victoria</td>\n      <td>Brighton</td>\n    </tr>\n    <tr>\n      <th>193</th>\n      <td>Shamrock Hotel Bendigo Victoria / Bartlett Bros</td>\n      <td>Bendigo</td>\n    </tr>\n  </tbody>\n</table>\n<p>194 rows × 2 columns</p>\n</div>"
     },
     "metadata": {},
     "execution_count": 16
    }
   ],
   "source": [
    "# Final Dataset to export\n",
    "victorian_hotels_final = victorian_hotels.drop(columns=['Location']).copy()\n",
    "victorian_hotels_final"
   ]
  },
  {
   "cell_type": "code",
   "execution_count": 17,
   "metadata": {},
   "outputs": [],
   "source": [
    "# Export to CSV\n",
    "victorian_hotels_final.to_csv('Resources/victorian_hotels_cleaned.csv')"
   ]
  },
  {
   "source": [
    "# Victorian Population"
   ],
   "cell_type": "markdown",
   "metadata": {}
  },
  {
   "cell_type": "code",
   "execution_count": 18,
   "metadata": {},
   "outputs": [
    {
     "output_type": "execute_result",
     "data": {
      "text/plain": [
       "    LGA code       Local Government Area    2018    2019  2018-2019  \\\n",
       "0      20110        Alpine Shire Council   12730   12814         84   \n",
       "1      20260   Ararat Rural City Council   11795   11845         50   \n",
       "2      20570       Ballarat City Council  107324  109505       2181   \n",
       "3      20660        Banyule City Council  130250  131631       1381   \n",
       "4      20740    Bass Coast Shire Council   35326   36320        994   \n",
       "..       ...                         ...     ...     ...        ...   \n",
       "74     27170        Wodonga City Council   41429   42083        654   \n",
       "75     27260        Wyndham City Council  255367  270487      15120   \n",
       "76     27350          Yarra City Council   98567  101495       2928   \n",
       "77     27450  Yarra Ranges Shire Council  158171  159462       1291   \n",
       "78     27630  Yarriambiack Shire council    6658    6639        -19   \n",
       "\n",
       "    percentage change  Natural increase  Net internal migration  \\\n",
       "0                 0.7               -49                      61   \n",
       "1                 0.4                -5                      -8   \n",
       "2                 2.0               444                    1187   \n",
       "3                 1.1               573                    -492   \n",
       "4                 2.8               -27                     901   \n",
       "..                ...               ...                     ...   \n",
       "74                1.6               266                     193   \n",
       "75                5.9              4039                    6392   \n",
       "76                3.0               693                     334   \n",
       "77                0.8              1137                    -480   \n",
       "78               -0.3               -51                      18   \n",
       "\n",
       "    Net overseas migration  Area km^2  Population density  \n",
       "0                       72     4788.2                 2.7  \n",
       "1                       63     4211.1                 2.8  \n",
       "2                      550      739.0               148.2  \n",
       "3                     1300       62.5              2104.7  \n",
       "4                      120      865.8                41.9  \n",
       "..                     ...        ...                 ...  \n",
       "74                     195      432.7                97.3  \n",
       "75                    4689      542.1               499.0  \n",
       "76                    1901       19.5              5193.6  \n",
       "77                     634     2468.2                64.6  \n",
       "78                      14     7325.8                 0.9  \n",
       "\n",
       "[79 rows x 11 columns]"
      ],
      "text/html": "<div>\n<style scoped>\n    .dataframe tbody tr th:only-of-type {\n        vertical-align: middle;\n    }\n\n    .dataframe tbody tr th {\n        vertical-align: top;\n    }\n\n    .dataframe thead th {\n        text-align: right;\n    }\n</style>\n<table border=\"1\" class=\"dataframe\">\n  <thead>\n    <tr style=\"text-align: right;\">\n      <th></th>\n      <th>LGA code</th>\n      <th>Local Government Area</th>\n      <th>2018</th>\n      <th>2019</th>\n      <th>2018-2019</th>\n      <th>percentage change</th>\n      <th>Natural increase</th>\n      <th>Net internal migration</th>\n      <th>Net overseas migration</th>\n      <th>Area km^2</th>\n      <th>Population density</th>\n    </tr>\n  </thead>\n  <tbody>\n    <tr>\n      <th>0</th>\n      <td>20110</td>\n      <td>Alpine Shire Council</td>\n      <td>12730</td>\n      <td>12814</td>\n      <td>84</td>\n      <td>0.7</td>\n      <td>-49</td>\n      <td>61</td>\n      <td>72</td>\n      <td>4788.2</td>\n      <td>2.7</td>\n    </tr>\n    <tr>\n      <th>1</th>\n      <td>20260</td>\n      <td>Ararat Rural City Council</td>\n      <td>11795</td>\n      <td>11845</td>\n      <td>50</td>\n      <td>0.4</td>\n      <td>-5</td>\n      <td>-8</td>\n      <td>63</td>\n      <td>4211.1</td>\n      <td>2.8</td>\n    </tr>\n    <tr>\n      <th>2</th>\n      <td>20570</td>\n      <td>Ballarat City Council</td>\n      <td>107324</td>\n      <td>109505</td>\n      <td>2181</td>\n      <td>2.0</td>\n      <td>444</td>\n      <td>1187</td>\n      <td>550</td>\n      <td>739.0</td>\n      <td>148.2</td>\n    </tr>\n    <tr>\n      <th>3</th>\n      <td>20660</td>\n      <td>Banyule City Council</td>\n      <td>130250</td>\n      <td>131631</td>\n      <td>1381</td>\n      <td>1.1</td>\n      <td>573</td>\n      <td>-492</td>\n      <td>1300</td>\n      <td>62.5</td>\n      <td>2104.7</td>\n    </tr>\n    <tr>\n      <th>4</th>\n      <td>20740</td>\n      <td>Bass Coast Shire Council</td>\n      <td>35326</td>\n      <td>36320</td>\n      <td>994</td>\n      <td>2.8</td>\n      <td>-27</td>\n      <td>901</td>\n      <td>120</td>\n      <td>865.8</td>\n      <td>41.9</td>\n    </tr>\n    <tr>\n      <th>...</th>\n      <td>...</td>\n      <td>...</td>\n      <td>...</td>\n      <td>...</td>\n      <td>...</td>\n      <td>...</td>\n      <td>...</td>\n      <td>...</td>\n      <td>...</td>\n      <td>...</td>\n      <td>...</td>\n    </tr>\n    <tr>\n      <th>74</th>\n      <td>27170</td>\n      <td>Wodonga City Council</td>\n      <td>41429</td>\n      <td>42083</td>\n      <td>654</td>\n      <td>1.6</td>\n      <td>266</td>\n      <td>193</td>\n      <td>195</td>\n      <td>432.7</td>\n      <td>97.3</td>\n    </tr>\n    <tr>\n      <th>75</th>\n      <td>27260</td>\n      <td>Wyndham City Council</td>\n      <td>255367</td>\n      <td>270487</td>\n      <td>15120</td>\n      <td>5.9</td>\n      <td>4039</td>\n      <td>6392</td>\n      <td>4689</td>\n      <td>542.1</td>\n      <td>499.0</td>\n    </tr>\n    <tr>\n      <th>76</th>\n      <td>27350</td>\n      <td>Yarra City Council</td>\n      <td>98567</td>\n      <td>101495</td>\n      <td>2928</td>\n      <td>3.0</td>\n      <td>693</td>\n      <td>334</td>\n      <td>1901</td>\n      <td>19.5</td>\n      <td>5193.6</td>\n    </tr>\n    <tr>\n      <th>77</th>\n      <td>27450</td>\n      <td>Yarra Ranges Shire Council</td>\n      <td>158171</td>\n      <td>159462</td>\n      <td>1291</td>\n      <td>0.8</td>\n      <td>1137</td>\n      <td>-480</td>\n      <td>634</td>\n      <td>2468.2</td>\n      <td>64.6</td>\n    </tr>\n    <tr>\n      <th>78</th>\n      <td>27630</td>\n      <td>Yarriambiack Shire council</td>\n      <td>6658</td>\n      <td>6639</td>\n      <td>-19</td>\n      <td>-0.3</td>\n      <td>-51</td>\n      <td>18</td>\n      <td>14</td>\n      <td>7325.8</td>\n      <td>0.9</td>\n    </tr>\n  </tbody>\n</table>\n<p>79 rows × 11 columns</p>\n</div>"
     },
     "metadata": {},
     "execution_count": 18
    }
   ],
   "source": [
    "# Reading the populaiton Dataframe\n",
    "victorian_population = pd.read_csv('Data/victoria_population.csv')\n",
    "victorian_population"
   ]
  },
  {
   "cell_type": "code",
   "execution_count": 19,
   "metadata": {},
   "outputs": [],
   "source": [
    "# City Shire \n",
    "city_shire = pd.read_csv('Data/city_shire.csv')"
   ]
  },
  {
   "cell_type": "code",
   "execution_count": 20,
   "metadata": {},
   "outputs": [
    {
     "output_type": "execute_result",
     "data": {
      "text/plain": [
       "             City                       Shire\n",
       "0          BRIGHT        Alpine Shire Council\n",
       "1          ARARAT   Ararat Rural City Council\n",
       "2        BALLARAT       Ballarat City Council\n",
       "3   GREENSBOROUGH        Banyule City Council\n",
       "4       WONTHAGGI    Bass Coast Shire Council\n",
       "..            ...                         ...\n",
       "73   SOUTH MORANG     Whittlesea City Council\n",
       "74        WODONGA        Wodonga City Council\n",
       "75       WERRIBEE        Wyndham City Council\n",
       "76       RICHMOND          Yarra City Council\n",
       "77       LILYDALE  Yarra Ranges Shire Council\n",
       "\n",
       "[78 rows x 2 columns]"
      ],
      "text/html": "<div>\n<style scoped>\n    .dataframe tbody tr th:only-of-type {\n        vertical-align: middle;\n    }\n\n    .dataframe tbody tr th {\n        vertical-align: top;\n    }\n\n    .dataframe thead th {\n        text-align: right;\n    }\n</style>\n<table border=\"1\" class=\"dataframe\">\n  <thead>\n    <tr style=\"text-align: right;\">\n      <th></th>\n      <th>City</th>\n      <th>Shire</th>\n    </tr>\n  </thead>\n  <tbody>\n    <tr>\n      <th>0</th>\n      <td>BRIGHT</td>\n      <td>Alpine Shire Council</td>\n    </tr>\n    <tr>\n      <th>1</th>\n      <td>ARARAT</td>\n      <td>Ararat Rural City Council</td>\n    </tr>\n    <tr>\n      <th>2</th>\n      <td>BALLARAT</td>\n      <td>Ballarat City Council</td>\n    </tr>\n    <tr>\n      <th>3</th>\n      <td>GREENSBOROUGH</td>\n      <td>Banyule City Council</td>\n    </tr>\n    <tr>\n      <th>4</th>\n      <td>WONTHAGGI</td>\n      <td>Bass Coast Shire Council</td>\n    </tr>\n    <tr>\n      <th>...</th>\n      <td>...</td>\n      <td>...</td>\n    </tr>\n    <tr>\n      <th>73</th>\n      <td>SOUTH MORANG</td>\n      <td>Whittlesea City Council</td>\n    </tr>\n    <tr>\n      <th>74</th>\n      <td>WODONGA</td>\n      <td>Wodonga City Council</td>\n    </tr>\n    <tr>\n      <th>75</th>\n      <td>WERRIBEE</td>\n      <td>Wyndham City Council</td>\n    </tr>\n    <tr>\n      <th>76</th>\n      <td>RICHMOND</td>\n      <td>Yarra City Council</td>\n    </tr>\n    <tr>\n      <th>77</th>\n      <td>LILYDALE</td>\n      <td>Yarra Ranges Shire Council</td>\n    </tr>\n  </tbody>\n</table>\n<p>78 rows × 2 columns</p>\n</div>"
     },
     "metadata": {},
     "execution_count": 20
    }
   ],
   "source": [
    "city_shire"
   ]
  },
  {
   "cell_type": "code",
   "execution_count": null,
   "metadata": {},
   "outputs": [],
   "source": []
  }
 ]
}