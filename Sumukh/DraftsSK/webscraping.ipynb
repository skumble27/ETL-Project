{
 "metadata": {
  "language_info": {
   "codemirror_mode": {
    "name": "ipython",
    "version": 3
   },
   "file_extension": ".py",
   "mimetype": "text/x-python",
   "name": "python",
   "nbconvert_exporter": "python",
   "pygments_lexer": "ipython3",
   "version": "3.6.12-final"
  },
  "orig_nbformat": 2,
  "kernelspec": {
   "name": "webscraping",
   "display_name": "Python (webscraping)"
  }
 },
 "nbformat": 4,
 "nbformat_minor": 2,
 "cells": [
  {
   "cell_type": "code",
   "execution_count": 1,
   "metadata": {},
   "outputs": [],
   "source": [
    "# Importing the relevant modules\n",
    "from splinter import Browser\n",
    "from bs4 import BeautifulSoup\n",
    "import time"
   ]
  },
  {
   "cell_type": "code",
   "execution_count": 2,
   "metadata": {},
   "outputs": [],
   "source": [
    "executable_path = {'executable_path': 'C:/temp/chromedriver.exe'}\n",
    "browser = Browser('chrome', **executable_path, headless=False)"
   ]
  },
  {
   "cell_type": "code",
   "execution_count": 54,
   "metadata": {},
   "outputs": [],
   "source": [
    "# Url to scrape the information\n",
    "url = 'https://www.hometogo.com.au/search/53cfca2a27269?duration=7&persons=0'\n",
    "\n",
    "browser.visit(url)\n",
    "\n",
    "time.sleep(20)"
   ]
  },
  {
   "cell_type": "code",
   "execution_count": 87,
   "metadata": {},
   "outputs": [],
   "source": [
    "html = browser.html\n",
    "soup = BeautifulSoup(html, 'html.parser')\n",
    "\n",
    "results = soup.find_all('div', class_='dne pb16 ph8')"
   ]
  },
  {
   "cell_type": "code",
   "execution_count": 88,
   "metadata": {
    "tags": [
     "outputPrepend"
    ]
   },
   "outputs": [
    {
     "output_type": "stream",
     "name": "stdout",
     "text": [
      "-medium fwb c-black lh18 ovh text-overflow\" style=\"max-height: 36px;\">Modest Mack - Anglesea</div>]\n[<div class=\"text-medium fwb c-black lh18 ovh text-overflow\" style=\"max-height: 36px;\">Kate's Cottage - Walk to the Beach &amp; Clifftops</div>]\n[<div class=\"text-medium fwb c-black lh18 ovh text-overflow\" style=\"max-height: 36px;\">Around About Lorne Studios or Apt</div>]\n[<div class=\"text-medium fwb c-black lh18 ovh text-overflow\" style=\"max-height: 36px;\">Gumble Haven - Free WIFI</div>]\n[<div class=\"text-medium fwb c-black lh18 ovh text-overflow\" style=\"max-height: 36px;\">Two Bedroom Unit In Anglesea</div>]\n[<div class=\"text-medium fwb c-black lh18 ovh text-overflow\" style=\"max-height: 36px;\">Retrospect - Anglesea</div>]\n[<div class=\"text-medium fwb c-black lh18 ovh text-overflow\" style=\"max-height: 36px;\">Lorne Beach Box Holidays - Cora Lynn Studio 24 - Free bakery breakfast included</div>]\n[<div class=\"text-medium fwb c-black lh18 ovh text-overflow\" style=\"max-height: 36px;\">Sorella Grande - The Pole House Big Sister</div>]\n[<div class=\"text-medium fwb c-black lh18 ovh text-overflow\" style=\"max-height: 36px;\">LORNE BEACH ACCOM - Apt 2</div>]\n[<div class=\"text-medium fwb c-black lh18 ovh text-overflow\" style=\"max-height: 36px;\">PERSONALLY DEEP CLEANED AFTER EVERY BOOKING! Osenia Blue Retreat Rye</div>]\n[<div class=\"text-medium fwb c-black lh18 ovh text-overflow\" style=\"max-height: 36px;\">1/89 GREAT OCEAN ROAD AIREYS INLET</div>]\n[<div class=\"text-medium fwb c-black lh18 ovh text-overflow\" style=\"max-height: 36px;\">Kiss Me too beach shack</div>]\n[<div class=\"text-medium fwb c-black lh18 ovh text-overflow\" style=\"max-height: 36px;\">Property ID: 161AI046</div>]\n[<div class=\"text-medium fwb c-black lh18 ovh text-overflow\" style=\"max-height: 36px;\">Lakes Main Holiday Park</div>]\n[<div class=\"text-medium fwb c-black lh18 ovh text-overflow\" style=\"max-height: 36px;\">Goose Crossing studio -CherryTree Ck Lorne Cottage</div>]\n[<div class=\"text-medium fwb c-black lh18 ovh text-overflow\" style=\"max-height: 36px;\">Property ID: 012AS095</div>]\n[<div class=\"text-medium fwb c-black lh18 ovh text-overflow\" style=\"max-height: 36px;\">City apartment in the heart of the city at an affordable price</div>]\n[<div class=\"text-medium fwb c-black lh18 ovh text-overflow\" style=\"max-height: 36px;\">ESPLANADE ELEGANCE (THE ESPLANADE)</div>]\n[<div class=\"text-medium fwb c-black lh18 ovh text-overflow\" style=\"max-height: 36px;\">Cherry Tree Creek Lorne Cottages (Willowbank)</div>]\n[<div class=\"text-medium fwb c-black lh18 ovh text-overflow\" style=\"max-height: 36px;\">THE MYRTLES, SANDY POINT.</div>]\n[<div class=\"text-medium fwb c-black lh18 ovh text-overflow\" style=\"max-height: 36px;\">Point Grey Apartment 16</div>]\n[<div class=\"text-medium fwb c-black lh18 ovh text-overflow\" style=\"max-height: 36px;\">9 KALBARU DRIVE FAIRHAVEN</div>]\n[<div class=\"text-medium fwb c-black lh18 ovh text-overflow\" style=\"max-height: 36px;\">Corner Cottage - At Anglesea</div>]\n[<div class=\"text-medium fwb c-black lh18 ovh text-overflow\" style=\"max-height: 36px;\">Modern 2 bedroom, 2 bathroom fully self contained apartment in Lorne.</div>]\n[<div class=\"text-medium fwb c-black lh18 ovh text-overflow\" style=\"max-height: 36px;\">41 FRASER AVENUE ANGLESEA</div>]\n[<div class=\"text-medium fwb c-black lh18 ovh text-overflow\" style=\"max-height: 36px;\">The Pole House - At Fairhaven</div>]\n[<div class=\"text-medium fwb c-black lh18 ovh text-overflow\" style=\"max-height: 36px;\">Top View - Stunning Lake Views at Loch Sport</div>]\n[<div class=\"text-medium fwb c-black lh18 ovh text-overflow\" style=\"max-height: 36px;\">LORNE BEACH ACCOM - Apt 1</div>]\n[<div class=\"text-medium fwb c-black lh18 ovh text-overflow\" style=\"max-height: 36px;\">BOULEVARD RETREAT HOUSE - no hills ! short walk to beach and shops</div>]\n[<div class=\"text-medium fwb c-black lh18 ovh text-overflow\" style=\"max-height: 36px;\">Anglesea Tree Top Views</div>]\n[<div class=\"text-medium fwb c-black lh18 ovh text-overflow\" style=\"max-height: 36px;\">Small property close to Venus Bay shops and Beach one.</div>]\n[<div class=\"text-medium fwb c-black lh18 ovh text-overflow\" style=\"max-height: 36px;\">Seaside Escape - walk to beach- Relaxed Coastal Abode - Brand new Townhouse</div>]\n[<div class=\"text-medium fwb c-black lh18 ovh text-overflow\" style=\"max-height: 36px;\">PARKSIDE BEACH HOUSE PET FRIENDLY 450m BEACH</div>]\n[<div class=\"text-medium fwb c-black lh18 ovh text-overflow\" style=\"max-height: 36px;\">Cora Lynn 3</div>]\n[<div class=\"text-medium fwb c-black lh18 ovh text-overflow\" style=\"max-height: 36px;\">Comfortable, clean and modern in an ideal quiet location</div>]\n[<div class=\"text-medium fwb c-black lh18 ovh text-overflow\" style=\"max-height: 36px;\">Ocean View Retreat, Lorne</div>]\n[<div class=\"text-medium fwb c-black lh18 ovh text-overflow\" style=\"max-height: 36px;\">Lorne Penthouse - water views</div>]\n[<div class=\"text-medium fwb c-black lh18 ovh text-overflow\" style=\"max-height: 36px;\">Seabed Lorne</div>]\n[<div class=\"text-medium fwb c-black lh18 ovh text-overflow\" style=\"max-height: 36px;\">Zeally Bay Road Beach Unit</div>]\n[<div class=\"text-medium fwb c-black lh18 ovh text-overflow\" style=\"max-height: 36px;\">Debonair 1 - At Anglesea</div>]\n[<div class=\"text-medium fwb c-black lh18 ovh text-overflow\" style=\"max-height: 36px;\">Torquay by the Sea excellent for families or small group of friends.</div>]\n[<div class=\"text-medium fwb c-black lh18 ovh text-overflow\" style=\"max-height: 36px;\">Grand Ridge Stay - Tarwin Valley</div>]\n[<div class=\"text-medium fwb c-black lh18 ovh text-overflow\" style=\"max-height: 36px;\">Rosebud Beachfront @ 777</div>]\n[<div class=\"text-medium fwb c-black lh18 ovh text-overflow\" style=\"max-height: 36px;\">1200 Gor - Perched high above the endless expanse of the Pacific Ocean</div>]\n[<div class=\"text-medium fwb c-black lh18 ovh text-overflow\" style=\"max-height: 36px;\">Vale Do Calvo - Short Stroll to the Beach</div>]\n[<div class=\"text-medium fwb c-black lh18 ovh text-overflow\" style=\"max-height: 36px;\">Gladstone House Beechworth</div>]\n[<div class=\"text-medium fwb c-black lh18 ovh text-overflow\" style=\"max-height: 36px;\">Relax and unwind in this cosy studio by the river.</div>]\n[<div class=\"text-medium fwb c-black lh18 ovh text-overflow\" style=\"max-height: 36px;\">Unit 2 Cora- Lynn 22-28 Mountjoy Parade</div>]\n[<div class=\"text-medium fwb c-black lh18 ovh text-overflow\" style=\"max-height: 36px;\">Sea views to Lorne pier and back entertaining garden with forest view</div>]\n[<div class=\"text-medium fwb c-black lh18 ovh text-overflow\" style=\"max-height: 36px;\">Albert 67 - Venus Bay, VIC</div>]\n[<div class=\"text-medium fwb c-black lh18 ovh text-overflow\" style=\"max-height: 36px;\">Sandyland - Private Pet Friendly Paradise with WiFi</div>]\n[<div class=\"text-medium fwb c-black lh18 ovh text-overflow\" style=\"max-height: 36px;\">Luxury Accommodation in the Heart of Sorrento</div>]\n[<div class=\"text-medium fwb c-black lh18 ovh text-overflow\" style=\"max-height: 36px;\">22 Karbeethong Rd, Mallacoota. Deck with spectacular lake views</div>]\n[<div class=\"text-medium fwb c-black lh18 ovh text-overflow\" style=\"max-height: 36px;\">20/15-16 The Esplanade, Cowes</div>]\n[<div class=\"text-medium fwb c-black lh18 ovh text-overflow\" style=\"max-height: 36px;\">Lin Cottage - 8 Mortimer Street</div>]\n[<div class=\"text-medium fwb c-black lh18 ovh text-overflow\" style=\"max-height: 36px;\">The Terminus Apartment</div>]\n[<div class=\"text-medium fwb c-black lh18 ovh text-overflow\" style=\"max-height: 36px;\">Beautiful Beach House in Old Torquay</div>]\n[<div class=\"text-medium fwb c-black lh18 ovh text-overflow\" style=\"max-height: 36px;\">Quintessential Beach Shack with all the mod cons.</div>]\n[<div class=\"text-medium fwb c-black lh18 ovh text-overflow\" style=\"max-height: 36px;\">Wavesong Beach House in Ocean Grove</div>]\n[<div class=\"text-medium fwb c-black lh18 ovh text-overflow\" style=\"max-height: 36px;\">Campbells Creek Cottage- The perfect weekend Escape</div>]\n[<div class=\"text-medium fwb c-black lh18 ovh text-overflow\" style=\"max-height: 36px;\">Anglesea beach UBETYA</div>]\n[<div class=\"text-medium fwb c-black lh18 ovh text-overflow\" style=\"max-height: 36px;\">Property ID: 001AS119</div>]\n[<div class=\"text-medium fwb c-black lh18 ovh text-overflow\" style=\"max-height: 36px;\">COWRIE CHALET (COWRIE RD)</div>]\n[<div class=\"text-medium fwb c-black lh18 ovh text-overflow\" style=\"max-height: 36px;\">Allen Cottage - Bring Your Fur Baby</div>]\n[<div class=\"text-medium fwb c-black lh18 ovh text-overflow\" style=\"max-height: 36px;\">Spacious 1 bedroom apartment with bay views, sleeps 2 plus has a portacot</div>]\n[<div class=\"text-medium fwb c-black lh18 ovh text-overflow\" style=\"max-height: 36px;\">Bells Estate Large 2BR Villa</div>]\n[<div class=\"text-medium fwb c-black lh18 ovh text-overflow\" style=\"max-height: 36px;\">Mystic Murray - Anglesea</div>]\n[<div class=\"text-medium fwb c-black lh18 ovh text-overflow\" style=\"max-height: 36px;\">Property ID: 073FH015</div>]\n[<div class=\"text-medium fwb c-black lh18 ovh text-overflow\" style=\"max-height: 36px;\">Anglesea Holiday Retreat</div>]\n[<div class=\"text-medium fwb c-black lh18 ovh text-overflow\" style=\"max-height: 36px;\">The Cottage - an island hideaway</div>]\n[<div class=\"text-medium fwb c-black lh18 ovh text-overflow\" style=\"max-height: 36px;\">Home away from Home!</div>]\n[<div class=\"text-medium fwb c-black lh18 ovh text-overflow\" style=\"max-height: 36px;\">Japanese style cottage with Pool and Wood fire at Mornington Peninsula</div>]\n[<div class=\"text-medium fwb c-black lh18 ovh text-overflow\" style=\"max-height: 36px;\">COMFORTABLE KATHRYN CLOSE</div>]\n[<div class=\"text-medium fwb c-black lh18 ovh text-overflow\" style=\"max-height: 36px;\">Sea Vista Unit, nice quiet location</div>]\n[<div class=\"text-medium fwb c-black lh18 ovh text-overflow\" style=\"max-height: 36px;\">Charles - Outstanding Views</div>]\n[<div class=\"text-medium fwb c-black lh18 ovh text-overflow\" style=\"max-height: 36px;\">Studio 15 Apartment@Lorne</div>]\n[<div class=\"text-medium fwb c-black lh18 ovh text-overflow\" style=\"max-height: 36px;\">Short Stay Freshwater Place 1 Bedroom Balcony</div>]\n[<div class=\"text-medium fwb c-black lh18 ovh text-overflow\" style=\"max-height: 36px;\">Brand New 2 Bedrm Cabin in Rosebud on the Mornington Peninsular</div>]\n[<div class=\"text-medium fwb c-black lh18 ovh text-overflow\" style=\"max-height: 36px;\">42 McMILLAN STREET ANGLESEA</div>]\n[<div class=\"text-medium fwb c-black lh18 ovh text-overflow\" style=\"max-height: 36px;\">260 Duffields Road, Jan Juc</div>]\n[<div class=\"text-medium fwb c-black lh18 ovh text-overflow\" style=\"max-height: 36px;\">Stephen's - Moggs Creek</div>]\n[<div class=\"text-medium fwb c-black lh18 ovh text-overflow\" style=\"max-height: 36px;\">An 1860's heritage listed Cottage</div>]\n[<div class=\"text-medium fwb c-black lh18 ovh text-overflow\" style=\"max-height: 36px;\">2 bedroom house at Woodside Beach</div>]\n[<div class=\"text-medium fwb c-black lh18 ovh text-overflow\" style=\"max-height: 36px;\">Anglesea Beach House</div>]\n[<div class=\"text-medium fwb c-black lh18 ovh text-overflow\" style=\"max-height: 36px;\">Beach Front Haven with 180 degree views</div>]\n[<div class=\"text-medium fwb c-black lh18 ovh text-overflow\" style=\"max-height: 36px;\">14 Aloha Drive, Ventnor</div>]\n[<div class=\"text-medium fwb c-black lh18 ovh text-overflow\" style=\"max-height: 36px;\">Simply Sorrento - Located in the heart of Sorrento</div>]\n[<div class=\"text-medium fwb c-black lh18 ovh text-overflow\" style=\"max-height: 36px;\">Zinc House - Unique lakeside relaxation</div>]\n[<div class=\"text-medium fwb c-black lh18 ovh text-overflow\" style=\"max-height: 36px;\">Homely Beach House - Direct Beach Access</div>]\n[<div class=\"text-medium fwb c-black lh18 ovh text-overflow\" style=\"max-height: 36px;\">Polwarth - Comfortable &amp; Affordable</div>]\n[<div class=\"text-medium fwb c-black lh18 ovh text-overflow\" style=\"max-height: 36px;\">Quaint Coastal Retreat</div>]\n[<div class=\"text-medium fwb c-black lh18 ovh text-overflow\" style=\"max-height: 36px;\">Oceanside Escape - Rye, VIC</div>]\n[<div class=\"text-medium fwb c-black lh18 ovh text-overflow\" style=\"max-height: 36px;\">Corymbia - At Anglesea</div>]\n[<div class=\"text-medium fwb c-black lh18 ovh text-overflow\" style=\"max-height: 36px;\">Coastal Cottage, walk to the Bay, with free WiFi &amp; Netflix! Linen supplied.</div>]\n[<div class=\"text-medium fwb c-black lh18 ovh text-overflow\" style=\"max-height: 36px;\">The Cape Paterson Treehouse</div>]\n[<div class=\"text-medium fwb c-black lh18 ovh text-overflow\" style=\"max-height: 36px;\">Resort Haven - sleeps 6</div>]\n[<div class=\"text-medium fwb c-black lh18 ovh text-overflow\" style=\"max-height: 36px;\">Property ID: 072AS074</div>]\n[<div class=\"text-medium fwb c-black lh18 ovh text-overflow\" style=\"max-height: 36px;\">Beach it; Spa; or Just chill out &amp; relax. Sleeps 8</div>]\n[<div class=\"text-medium fwb c-black lh18 ovh text-overflow\" style=\"max-height: 36px;\">Adeline Cottage Port Fairy</div>]\n[<div class=\"text-medium fwb c-black lh18 ovh text-overflow\" style=\"max-height: 36px;\">Tucker House - Contemporary Design</div>]\n[<div class=\"text-medium fwb c-black lh18 ovh text-overflow\" style=\"max-height: 36px;\">1 Goat - 200 Metres To The Beach</div>]\n[<div class=\"text-medium fwb c-black lh18 ovh text-overflow\" style=\"max-height: 36px;\">St Andrews \"Beach Break Cottage\"</div>]\n[<div class=\"text-medium fwb c-black lh18 ovh text-overflow\" style=\"max-height: 36px;\">PRIVATE, QUIET BEACH HOME!</div>]\n[<div class=\"text-medium fwb c-black lh18 ovh text-overflow\" style=\"max-height: 36px;\">Bellevue - Easy Walk To The Beach</div>]\n[<div class=\"text-medium fwb c-black lh18 ovh text-overflow\" style=\"max-height: 36px;\">1/27 PURNELL STREET ANGLESEA</div>]\n[<div class=\"text-medium fwb c-black lh18 ovh text-overflow\" style=\"max-height: 36px;\">A pet friendly haven for the whole family.</div>]\n[<div class=\"text-medium fwb c-black lh18 ovh text-overflow\" style=\"max-height: 36px;\">Modern on Fern Street</div>]\n[<div class=\"text-medium fwb c-black lh18 ovh text-overflow\" style=\"max-height: 36px;\">Renovated coastal chic beach house in Diamond Bay area</div>]\n[<div class=\"text-medium fwb c-black lh18 ovh text-overflow\" style=\"max-height: 36px;\">Blue Sea Retreat at Portarlington</div>]\n[<div class=\"text-medium fwb c-black lh18 ovh text-overflow\" style=\"max-height: 36px;\">Echuca Port Walk Townhouse</div>]\n[<div class=\"text-medium fwb c-black lh18 ovh text-overflow\" style=\"max-height: 36px;\">Stone Edge - North Cottage</div>]\n[<div class=\"text-medium fwb c-black lh18 ovh text-overflow\" style=\"max-height: 36px;\">Ormond stunner-- the heart of southeast melbourne</div>]\n[<div class=\"text-medium fwb c-black lh18 ovh text-overflow\" style=\"max-height: 36px;\">Trevally Retreat - Ocean Grove</div>]\n[<div class=\"text-medium fwb c-black lh18 ovh text-overflow\" style=\"max-height: 36px;\">Ocean Breeze Lorne</div>]\n[<div class=\"text-medium fwb c-black lh18 ovh text-overflow\" style=\"max-height: 36px;\">Stephanie's at Onion Bay</div>]\n[<div class=\"text-medium fwb c-black lh18 ovh text-overflow\" style=\"max-height: 36px;\">The Manse Beechworth. LOCATION LOCATION......</div>]\n[<div class=\"text-medium fwb c-black lh18 ovh text-overflow\" style=\"max-height: 36px;\">WONDERFUL WIYN (WIYN AVENUE)</div>]\n[<div class=\"text-medium fwb c-black lh18 ovh text-overflow\" style=\"max-height: 36px;\">Townhouse on Hitchcock Ave with FREE NBN WiFi</div>]\n[<div class=\"text-medium fwb c-black lh18 ovh text-overflow\" style=\"max-height: 36px;\">The Cottage - Montrose - Mount Martha</div>]\n[<div class=\"text-medium fwb c-black lh18 ovh text-overflow\" style=\"max-height: 36px;\">Ideally situated within a short drive to the 12 Apostles and Loch Ard Gorge</div>]\n[<div class=\"text-medium fwb c-black lh18 ovh text-overflow\" style=\"max-height: 36px;\">Cute n cosy, relaxing beach house opposite the beach comfy, quiet and tranquil</div>]\n[<div class=\"text-medium fwb c-black lh18 ovh text-overflow\" style=\"max-height: 36px;\">Cosy Buninyong Cabin</div>]\n[<div class=\"text-medium fwb c-black lh18 ovh text-overflow\" style=\"max-height: 36px;\">6/2A WALKER STREET - Anglesea, VIC</div>]\n[<div class=\"text-medium fwb c-black lh18 ovh text-overflow\" style=\"max-height: 36px;\">Large heated pool, fully fenced secure grounds, sleeps 6 over 3 bedrooms</div>]\n[<div class=\"text-medium fwb c-black lh18 ovh text-overflow\" style=\"max-height: 36px;\">Minapre - Quaint Cottage</div>]\n[<div class=\"text-medium fwb c-black lh18 ovh text-overflow\" style=\"max-height: 36px;\">The Hamptons 1 Bedroom Standard Apartment</div>]\n[<div class=\"text-medium fwb c-black lh18 ovh text-overflow\" style=\"max-height: 36px;\">The White House - Geelong CBD</div>]\n[<div class=\"text-medium fwb c-black lh18 ovh text-overflow\" style=\"max-height: 36px;\">One Bedroom Apartment in Gallery Towers</div>]\n[<div class=\"text-medium fwb c-black lh18 ovh text-overflow\" style=\"max-height: 36px;\">Southbank Queen Suite I POOL, GYM &amp; SPA</div>]\n[<div class=\"text-medium fwb c-black lh18 ovh text-overflow\" style=\"max-height: 36px;\">Marine Sanctuary, Elwood</div>]\n[<div class=\"text-medium fwb c-black lh18 ovh text-overflow\" style=\"max-height: 36px;\">Breakers Apollo Bay- The Studio</div>]\n[<div class=\"text-medium fwb c-black lh18 ovh text-overflow\" style=\"max-height: 36px;\">London Bridge Cottage</div>]\n[<div class=\"text-medium fwb c-black lh18 ovh text-overflow\" style=\"max-height: 36px;\">Relax in a Luxury, Clean and Peaceful RYE Home</div>]\n[<div class=\"text-medium fwb c-black lh18 ovh text-overflow\" style=\"max-height: 36px;\">Glendene - Halls Gap</div>]\n[<div class=\"text-medium fwb c-black lh18 ovh text-overflow\" style=\"max-height: 36px;\">A slice of ocean luxe in the heart of Barwon Heads.</div>]\n[<div class=\"text-medium fwb c-black lh18 ovh text-overflow\" style=\"max-height: 36px;\">Donalda Spa House - Accomodation in the heart of Sorrento with outdoor spa</div>]\n[<div class=\"text-medium fwb c-black lh18 ovh text-overflow\" style=\"max-height: 36px;\">Bellbrae Mudbrick Love Shack</div>]\n[<div class=\"text-medium fwb c-black lh18 ovh text-overflow\" style=\"max-height: 36px;\">Amber Mist Villas: Villa Two</div>]\n[<div class=\"text-medium fwb c-black lh18 ovh text-overflow\" style=\"max-height: 36px;\">Mount Eliza Sunset Apartment</div>]\n[<div class=\"text-medium fwb c-black lh18 ovh text-overflow\" style=\"max-height: 36px;\">Walking distance to the beach with plenty of space</div>]\n[<div class=\"text-medium fwb c-black lh18 ovh text-overflow\" style=\"max-height: 36px;\">HideAway House - Wood fire-Swimming Pool-Walk to the Beach</div>]\n[<div class=\"text-medium fwb c-black lh18 ovh text-overflow\" style=\"max-height: 36px;\">NOT FAR FROM FISHOS (FISCHER ST)</div>]\n[<div class=\"text-medium fwb c-black lh18 ovh text-overflow\" style=\"max-height: 36px;\">Gogoll Escape with private entrance</div>]\n[<div class=\"text-medium fwb c-black lh18 ovh text-overflow\" style=\"max-height: 36px;\">Torquay's Original Beach Shack</div>]\n[<div class=\"text-medium fwb c-black lh18 ovh text-overflow\" style=\"max-height: 36px;\">The View Bright - Apartment 2</div>]\n[<div class=\"text-medium fwb c-black lh18 ovh text-overflow\" style=\"max-height: 36px;\">Quiet, quality 2 bedroom Unit close to High Street</div>]\n[<div class=\"text-medium fwb c-black lh18 ovh text-overflow\" style=\"max-height: 36px;\">Delightfully Renovated</div>]\n[<div class=\"text-medium fwb c-black lh18 ovh text-overflow\" style=\"max-height: 36px;\">Stone's Throw Cottage B&amp;B Belgrave</div>]\n[<div class=\"text-medium fwb c-black lh18 ovh text-overflow\" style=\"max-height: 36px;\">Yea Cabin/Bunk House</div>]\n[<div class=\"text-medium fwb c-black lh18 ovh text-overflow\" style=\"max-height: 36px;\">Perfect location, strolling distance to everything Paynesville has to offer.</div>]\n[<div class=\"text-medium fwb c-black lh18 ovh text-overflow\" style=\"max-height: 36px;\">Studio Apartment at Lonsdale Street</div>]\n[<div class=\"text-medium fwb c-black lh18 ovh text-overflow\" style=\"max-height: 36px;\">Soho 202 Luxury Apartment</div>]\n"
     ]
    }
   ],
   "source": [
    "for result in results:\n",
    "    hotel = result.find_all('div',class_='text-medium fwb c-black lh18 ovh text-overflow')\n",
    "    print(hotel)"
   ]
  },
  {
   "cell_type": "code",
   "execution_count": 89,
   "metadata": {},
   "outputs": [
    {
     "output_type": "execute_result",
     "data": {
      "text/plain": [
       "1"
      ]
     },
     "metadata": {},
     "execution_count": 89
    }
   ],
   "source": [
    "len(hotel)"
   ]
  },
  {
   "cell_type": "code",
   "execution_count": null,
   "metadata": {},
   "outputs": [],
   "source": []
  },
  {
   "cell_type": "code",
   "execution_count": null,
   "metadata": {},
   "outputs": [],
   "source": []
  }
 ]
}