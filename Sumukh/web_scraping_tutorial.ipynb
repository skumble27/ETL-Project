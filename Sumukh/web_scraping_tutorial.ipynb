{
 "metadata": {
  "language_info": {
   "codemirror_mode": {
    "name": "ipython",
    "version": 3
   },
   "file_extension": ".py",
   "mimetype": "text/x-python",
   "name": "python",
   "nbconvert_exporter": "python",
   "pygments_lexer": "ipython3",
   "version": "3.6.12-final"
  },
  "orig_nbformat": 2,
  "kernelspec": {
   "name": "webscraping",
   "display_name": "Python (webscraping)"
  }
 },
 "nbformat": 4,
 "nbformat_minor": 2,
 "cells": [
  {
   "cell_type": "code",
   "execution_count": 1,
   "metadata": {},
   "outputs": [],
   "source": [
    "from selenium import webdriver\n",
    "from selenium.webdriver.chrome.options import Options\n",
    "from selenium.webdriver.common.by import By\n",
    "from selenium.webdriver.common.keys import Keys\n",
    "from selenium.webdriver.support.ui import WebDriverWait\n",
    "from selenium.webdriver.support.expected_conditions import presence_of_all_elements_located\n",
    "import time\n",
    "import sys"
   ]
  },
  {
   "cell_type": "code",
   "execution_count": 2,
   "metadata": {},
   "outputs": [],
   "source": [
    "url = 'https://www.brainyquote.com'"
   ]
  },
  {
   "cell_type": "code",
   "execution_count": 3,
   "metadata": {},
   "outputs": [],
   "source": [
    "# Absolute path\n",
    "chrome_driver_path = 'chromedriver.exe'\n",
    "\n",
    "chrome_options = Options()\n",
    "\n",
    "chrome_options.add_argument('--headless')# Want to run the chrome application behind the scenes\n",
    "\n",
    "# The code below works as a web browser\n",
    "webdriver = webdriver.Chrome(\n",
    "    executable_path=chrome_driver_path,\n",
    "    options=chrome_options\n",
    ")"
   ]
  },
  {
   "cell_type": "code",
   "execution_count": 4,
   "metadata": {},
   "outputs": [
    {
     "output_type": "stream",
     "name": "stdout",
     "text": [
      "--ip=127.0.0.1\n"
     ]
    }
   ],
   "source": [
    "# Default Search query\n",
    "search_query = \"life\"\n",
    "\n",
    "# If the sys.argv contains more than two key words. For example, when running the script you decide to search using the word love, that will override the first search query word of \"life\"\n",
    "if (len(sys.argv) >= 2):\n",
    "    search_query = sys.argv[1]\n",
    "    print(search_query)\n",
    "\n"
   ]
  },
  {
   "cell_type": "code",
   "execution_count": 5,
   "metadata": {},
   "outputs": [],
   "source": [
    "with webdriver as driver:\n",
    "    # timeout\n",
    "    wait = WebDriverWait(driver,10)\n",
    "\n",
    "    # Retrieve data\n",
    "    driver.get(url)\n",
    "\n",
    "    # Find the search box from the website\n",
    "    search = driver.find_element_by_id('hmSearch') #Searching for ONE element\n",
    "    search.send_keys(search_query + Keys.RETURN) # Find the HTML box and then type something and then click enter for you\n",
    "\n",
    "    #Wait\n",
    "    time.sleep(5)\n",
    "\n",
    "# resume tutorial at time time https://youtu.be/QoyIWDKrWU0?t=898\n",
    "    "
   ]
  },
  {
   "cell_type": "code",
   "execution_count": null,
   "metadata": {},
   "outputs": [],
   "source": []
  }
 ]
}