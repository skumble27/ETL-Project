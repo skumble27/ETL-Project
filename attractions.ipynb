{
 "cells": [
  {
   "cell_type": "code",
   "execution_count": null,
   "metadata": {},
   "outputs": [],
   "source": [
    "# Dependencies\n",
    "import requests\n",
    "import json\n",
    "import pandas as pd\n",
    "import numpy as np\n",
    "import time\n",
    "from pandas.io.json import json_normalize\n",
    "# Google API Key\n",
    "from config import gkey\n",
    "\n",
    "#file path to saved csv dataframe\n",
    "file = 'Cleaned_Data/main_city_shire_clean.csv'"
   ]
  },
  {
   "cell_type": "code",
   "execution_count": null,
   "metadata": {},
   "outputs": [],
   "source": [
    "#bring csv file in as pd dataframe\n",
    "cities_df = pd.read_csv(file, encoding=\"ISO-8859-1\")\n",
    "cities_df.head()"
   ]
  },
  {
   "cell_type": "code",
   "execution_count": null,
   "metadata": {},
   "outputs": [],
   "source": [
    "# make cities list\n",
    "cities = cities_df[\"City\"].tolist()\n",
    "print(cities)"
   ]
  },
  {
   "cell_type": "code",
   "execution_count": null,
   "metadata": {},
   "outputs": [],
   "source": [
    "city_list = np.array(cities)\n",
    "print(city_list)"
   ]
  },
  {
   "cell_type": "code",
   "execution_count": null,
   "metadata": {},
   "outputs": [],
   "source": [
    "# use google api to search things to do for each city\n",
    "#city = 'Bendigo'\n",
    "#response_urls = []\n",
    "to_do_list = []\n",
    "\n",
    "for city in city_list:\n",
    "    my_phrase = f\"tourist attraction in {city}, VIC, AU\"\n",
    "    target_url = \"https://maps.googleapis.com/maps/api/place/textsearch/json\"\n",
    "    params = {\n",
    "    \"query\": my_phrase,\n",
    "    \"key\": gkey\n",
    "    }\n",
    "    response = requests.get(target_url, params)\n",
    "    to_dos = response.json()\n",
    "    to_do_list.append(to_dos)\n",
    "    #response_urls.append(response.url)\n",
    "# print the response URL, avoid doing for public GitHub repos in order to avoid exposing key\n",
    "#print(response.url)\n",
    "print(to_do_list)\n",
    "   "
   ]
  },
  {
   "cell_type": "code",
   "execution_count": null,
   "metadata": {},
   "outputs": [],
   "source": [
    "print(len(to_do_list))"
   ]
  },
  {
   "cell_type": "code",
   "execution_count": null,
   "metadata": {},
   "outputs": [],
   "source": [
    "# loop through to do list to get attraction details\n",
    "#lists to append to\n",
    "name = []\n",
    "address = []\n",
    "status = []\n",
    "rating=[]\n",
    "counter = 0\n",
    "\n",
    "for do in to_do_list:\n",
    "        called = do[\"name\"][0]\n",
    "        name.append(called)\n",
    "        locate = do[\"formatted_address\"]\n",
    "        address.append(locate)\n",
    "        ops = do[\"business_status\"]\n",
    "        status.append(ops)\n",
    "        rated = do[\"rating\"]\n",
    "        rating.append(rated)\n",
    "        counter += 1\n",
    "        \n",
    "        if counter == 5:\n",
    "            time.sleep(1.01)\n",
    "            break"
   ]
  },
  {
   "cell_type": "code",
   "execution_count": null,
   "metadata": {},
   "outputs": [],
   "source": [
    "#lists to append to\n",
    "name = []\n",
    "address = []\n",
    "status = []\n",
    "rating=[]\n",
    "counter = 0\n",
    "for do in to_dos[\"results\"]:\n",
    "        called = do[\"name\"]\n",
    "        name.append(called)\n",
    "        locate = do[\"formatted_address\"]\n",
    "        address.append(locate)\n",
    "        ops = do[\"business_status\"]\n",
    "        status.append(ops)\n",
    "        rated = do[\"rating\"]\n",
    "        rating.append(rated)\n",
    "        counter += 1\n",
    "        \n",
    "        if counter == 5:\n",
    "            time.sleep(1.01)\n",
    "            break"
   ]
  },
  {
   "cell_type": "code",
   "execution_count": null,
   "metadata": {},
   "outputs": [],
   "source": [
    "# use google api to search things to do for each city\n",
    "city = 'Bright'\n",
    "\n",
    "#lists to append to\n",
    "name = []\n",
    "address = []\n",
    "status = []\n",
    "rating=[]\n",
    "\n",
    "\n",
    "\n",
    "my_phrase = f\"tourist attraction in{city}, VIC, AU\"\n",
    "target_url = \"https://maps.googleapis.com/maps/api/place/textsearch/json\"\n",
    "\n",
    "params = {\n",
    "    \"query\": my_phrase,\n",
    "    \"key\": gkey\n",
    "}\n",
    "\n",
    "response = requests.get(target_url, params)\n",
    "\n",
    "# print the response URL, avoid doing for public GitHub repos in order to avoid exposing key\n",
    "# print(response.url)\n",
    "to_dos = response.json()\n",
    "#print(json.dumps(to_dos, indent=4, sort_keys=True))\n",
    "\n",
    "counter = 0\n",
    "\n",
    "for do in to_dos[\"results\"]:\n",
    "    called = do[\"name\"]\n",
    "    name.append(called)\n",
    "    locate = do[\"formatted_address\"]\n",
    "    address.append(locate)\n",
    "    ops = do[\"business_status\"]\n",
    "    status.append(ops)\n",
    "    rated = do[\"rating\"]\n",
    "    rating.append(rated)\n",
    "    counter += 1\n",
    "    \n",
    "    if counter == 5:\n",
    "        time.sleep(1.01)\n",
    "        break\n",
    "    "
   ]
  },
  {
   "cell_type": "code",
   "execution_count": null,
   "metadata": {},
   "outputs": [],
   "source": [
    "# use google api to search things to do for each city\n",
    "city = 'Ballarat'\n"
   ]
  },
  {
   "cell_type": "code",
   "execution_count": null,
   "metadata": {},
   "outputs": [],
   "source": [
    "# use google api to search things to do for each city\n",
    "city = 'Bendigo'\n"
   ]
  },
  {
   "cell_type": "code",
   "execution_count": null,
   "metadata": {},
   "outputs": [],
   "source": [
    "# use google api to search things to do for each city\n",
    "city = 'Bendigo'\n",
    "\n",
    "my_phrase = f\"hotel in{city}, VIC\"\n",
    "target_url = \"https://maps.googleapis.com/maps/api/place/textsearch/json\"\n",
    "\n",
    "params = {\n",
    "    \"query\": my_phrase,\n",
    "    \"key\": gkey\n",
    "}\n",
    "\n",
    "response = requests.get(target_url, params)\n",
    "\n",
    "# print the response URL, avoid doing for public GitHub repos in order to avoid exposing key\n",
    "# print(response.url)\n",
    "stays = response.json()\n",
    "#print(json.dumps(stays, indent=4, sort_keys=True))\n",
    "\n",
    "counter = 0\n",
    "\n",
    "for stay in stays[\"results\"]:\n",
    "    print(stay[\"name\"])\n",
    "    print(stay[\"formatted_address\"])\n",
    "    print(stay[\"business_status\"])\n",
    "    print(stay[\"rating\"])\n",
    "    counter += 1\n",
    "    if counter == 10:\n",
    "        break"
   ]
  }
 ],
 "metadata": {
  "kernelspec": {
   "display_name": "Python [conda env:PythonData] *",
   "language": "python",
   "name": "conda-env-PythonData-py"
  },
  "language_info": {
   "codemirror_mode": {
    "name": "ipython",
    "version": 3
   },
   "file_extension": ".py",
   "mimetype": "text/x-python",
   "name": "python",
   "nbconvert_exporter": "python",
   "pygments_lexer": "ipython3",
   "version": "3.7.1"
  }
 },
 "nbformat": 4,
 "nbformat_minor": 4
}
