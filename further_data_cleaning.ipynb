{
 "metadata": {
  "language_info": {
   "codemirror_mode": {
    "name": "ipython",
    "version": 3
   },
   "file_extension": ".py",
   "mimetype": "text/x-python",
   "name": "python",
   "nbconvert_exporter": "python",
   "pygments_lexer": "ipython3",
   "version": "3.6.12-final"
  },
  "orig_nbformat": 2,
  "kernelspec": {
   "name": "webscraping",
   "display_name": "Python (webscraping)"
  }
 },
 "nbformat": 4,
 "nbformat_minor": 2,
 "cells": [
  {
   "source": [
    "# Hotel Price Data Cleaning"
   ],
   "cell_type": "markdown",
   "metadata": {}
  },
  {
   "cell_type": "code",
   "execution_count": 2,
   "metadata": {},
   "outputs": [],
   "source": [
    "import pandas as pd"
   ]
  },
  {
   "cell_type": "code",
   "execution_count": 4,
   "metadata": {},
   "outputs": [
    {
     "output_type": "execute_result",
     "data": {
      "text/plain": [
       "                                            Hotel_name     Hotel_city  \\\n",
       "0    Roses of Daylesford - Rosemary Cottage   Beaut...     Daylesford   \n",
       "1    New Modern luxurious studio appartment 5mins w...  Cape Woolamai   \n",
       "2    Maple Cottage \"The Studio\" Trentham - $99 mid ...       Trentham   \n",
       "3    Bella Loft: luxury studio apartment in the hea...        Woodend   \n",
       "4    The Gatehouse - Light filled  cottage  in the ...      Melbourne   \n",
       "..                                                 ...            ...   \n",
       "631           The Sebel Residences Melbourne Docklands      Melbourne   \n",
       "632                      Summer Inn Holiday Apartments      Melbourne   \n",
       "633            CBD Victoria Harbour Service Apartments      Melbourne   \n",
       "634                                  Clunes Guest Home  Hepburn Shire   \n",
       "635                                   Redan Apartments      Melbourne   \n",
       "\n",
       "     Hotel_price  Hotel_rating  \n",
       "0            235           3.0  \n",
       "1            279           5.0  \n",
       "2            172           4.8  \n",
       "3            270           4.9  \n",
       "4            200           4.9  \n",
       "..           ...           ...  \n",
       "631          194           4.0  \n",
       "632          200           3.8  \n",
       "633          421           3.4  \n",
       "634          140           3.3  \n",
       "635           85           1.9  \n",
       "\n",
       "[636 rows x 4 columns]"
      ],
      "text/html": "<div>\n<style scoped>\n    .dataframe tbody tr th:only-of-type {\n        vertical-align: middle;\n    }\n\n    .dataframe tbody tr th {\n        vertical-align: top;\n    }\n\n    .dataframe thead th {\n        text-align: right;\n    }\n</style>\n<table border=\"1\" class=\"dataframe\">\n  <thead>\n    <tr style=\"text-align: right;\">\n      <th></th>\n      <th>Hotel_name</th>\n      <th>Hotel_city</th>\n      <th>Hotel_price</th>\n      <th>Hotel_rating</th>\n    </tr>\n  </thead>\n  <tbody>\n    <tr>\n      <th>0</th>\n      <td>Roses of Daylesford - Rosemary Cottage   Beaut...</td>\n      <td>Daylesford</td>\n      <td>235</td>\n      <td>3.0</td>\n    </tr>\n    <tr>\n      <th>1</th>\n      <td>New Modern luxurious studio appartment 5mins w...</td>\n      <td>Cape Woolamai</td>\n      <td>279</td>\n      <td>5.0</td>\n    </tr>\n    <tr>\n      <th>2</th>\n      <td>Maple Cottage \"The Studio\" Trentham - $99 mid ...</td>\n      <td>Trentham</td>\n      <td>172</td>\n      <td>4.8</td>\n    </tr>\n    <tr>\n      <th>3</th>\n      <td>Bella Loft: luxury studio apartment in the hea...</td>\n      <td>Woodend</td>\n      <td>270</td>\n      <td>4.9</td>\n    </tr>\n    <tr>\n      <th>4</th>\n      <td>The Gatehouse - Light filled  cottage  in the ...</td>\n      <td>Melbourne</td>\n      <td>200</td>\n      <td>4.9</td>\n    </tr>\n    <tr>\n      <th>...</th>\n      <td>...</td>\n      <td>...</td>\n      <td>...</td>\n      <td>...</td>\n    </tr>\n    <tr>\n      <th>631</th>\n      <td>The Sebel Residences Melbourne Docklands</td>\n      <td>Melbourne</td>\n      <td>194</td>\n      <td>4.0</td>\n    </tr>\n    <tr>\n      <th>632</th>\n      <td>Summer Inn Holiday Apartments</td>\n      <td>Melbourne</td>\n      <td>200</td>\n      <td>3.8</td>\n    </tr>\n    <tr>\n      <th>633</th>\n      <td>CBD Victoria Harbour Service Apartments</td>\n      <td>Melbourne</td>\n      <td>421</td>\n      <td>3.4</td>\n    </tr>\n    <tr>\n      <th>634</th>\n      <td>Clunes Guest Home</td>\n      <td>Hepburn Shire</td>\n      <td>140</td>\n      <td>3.3</td>\n    </tr>\n    <tr>\n      <th>635</th>\n      <td>Redan Apartments</td>\n      <td>Melbourne</td>\n      <td>85</td>\n      <td>1.9</td>\n    </tr>\n  </tbody>\n</table>\n<p>636 rows × 4 columns</p>\n</div>"
     },
     "metadata": {},
     "execution_count": 4
    }
   ],
   "source": [
    "# Removing commas from the price column\n",
    "hotel_price_1 = pd.read_csv('Cleaned_data/hotel_price.csv')\n",
    "hotel_price_1"
   ]
  },
  {
   "cell_type": "code",
   "execution_count": 7,
   "metadata": {},
   "outputs": [],
   "source": [
    "hotel_price_1['Hotel_name'] = hotel_price_1['Hotel_name'].str.replace('~',' ')"
   ]
  },
  {
   "cell_type": "code",
   "execution_count": 8,
   "metadata": {},
   "outputs": [],
   "source": [
    "# function to remove non-ASCII \n",
    "def remove_non_ascii(Hotel_name): \n",
    "    return ''.join(i for i in Hotel_name if ord(i)<128) \n",
    " \n",
    "hotel_price_1['Hotel_name'] = hotel_price_1['Hotel_name'].apply(remove_non_ascii)"
   ]
  },
  {
   "cell_type": "code",
   "execution_count": 9,
   "metadata": {},
   "outputs": [
    {
     "output_type": "execute_result",
     "data": {
      "text/plain": [
       "                                            Hotel_name           City  \\\n",
       "0    Roses of Daylesford - Rosemary Cottage   Beaut...     Daylesford   \n",
       "1    New Modern luxurious studio appartment 5mins w...  Cape Woolamai   \n",
       "2    Maple Cottage \"The Studio\" Trentham - $99 mid ...       Trentham   \n",
       "3    Bella Loft: luxury studio apartment in the hea...        Woodend   \n",
       "4    The Gatehouse - Light filled  cottage  in the ...      Melbourne   \n",
       "..                                                 ...            ...   \n",
       "631           The Sebel Residences Melbourne Docklands      Melbourne   \n",
       "632                      Summer Inn Holiday Apartments      Melbourne   \n",
       "633            CBD Victoria Harbour Service Apartments      Melbourne   \n",
       "634                                  Clunes Guest Home  Hepburn Shire   \n",
       "635                                   Redan Apartments      Melbourne   \n",
       "\n",
       "     Hotel_price  Hotel_rating  \n",
       "0            235           3.0  \n",
       "1            279           5.0  \n",
       "2            172           4.8  \n",
       "3            270           4.9  \n",
       "4            200           4.9  \n",
       "..           ...           ...  \n",
       "631          194           4.0  \n",
       "632          200           3.8  \n",
       "633          421           3.4  \n",
       "634          140           3.3  \n",
       "635           85           1.9  \n",
       "\n",
       "[636 rows x 4 columns]"
      ],
      "text/html": "<div>\n<style scoped>\n    .dataframe tbody tr th:only-of-type {\n        vertical-align: middle;\n    }\n\n    .dataframe tbody tr th {\n        vertical-align: top;\n    }\n\n    .dataframe thead th {\n        text-align: right;\n    }\n</style>\n<table border=\"1\" class=\"dataframe\">\n  <thead>\n    <tr style=\"text-align: right;\">\n      <th></th>\n      <th>Hotel_name</th>\n      <th>City</th>\n      <th>Hotel_price</th>\n      <th>Hotel_rating</th>\n    </tr>\n  </thead>\n  <tbody>\n    <tr>\n      <th>0</th>\n      <td>Roses of Daylesford - Rosemary Cottage   Beaut...</td>\n      <td>Daylesford</td>\n      <td>235</td>\n      <td>3.0</td>\n    </tr>\n    <tr>\n      <th>1</th>\n      <td>New Modern luxurious studio appartment 5mins w...</td>\n      <td>Cape Woolamai</td>\n      <td>279</td>\n      <td>5.0</td>\n    </tr>\n    <tr>\n      <th>2</th>\n      <td>Maple Cottage \"The Studio\" Trentham - $99 mid ...</td>\n      <td>Trentham</td>\n      <td>172</td>\n      <td>4.8</td>\n    </tr>\n    <tr>\n      <th>3</th>\n      <td>Bella Loft: luxury studio apartment in the hea...</td>\n      <td>Woodend</td>\n      <td>270</td>\n      <td>4.9</td>\n    </tr>\n    <tr>\n      <th>4</th>\n      <td>The Gatehouse - Light filled  cottage  in the ...</td>\n      <td>Melbourne</td>\n      <td>200</td>\n      <td>4.9</td>\n    </tr>\n    <tr>\n      <th>...</th>\n      <td>...</td>\n      <td>...</td>\n      <td>...</td>\n      <td>...</td>\n    </tr>\n    <tr>\n      <th>631</th>\n      <td>The Sebel Residences Melbourne Docklands</td>\n      <td>Melbourne</td>\n      <td>194</td>\n      <td>4.0</td>\n    </tr>\n    <tr>\n      <th>632</th>\n      <td>Summer Inn Holiday Apartments</td>\n      <td>Melbourne</td>\n      <td>200</td>\n      <td>3.8</td>\n    </tr>\n    <tr>\n      <th>633</th>\n      <td>CBD Victoria Harbour Service Apartments</td>\n      <td>Melbourne</td>\n      <td>421</td>\n      <td>3.4</td>\n    </tr>\n    <tr>\n      <th>634</th>\n      <td>Clunes Guest Home</td>\n      <td>Hepburn Shire</td>\n      <td>140</td>\n      <td>3.3</td>\n    </tr>\n    <tr>\n      <th>635</th>\n      <td>Redan Apartments</td>\n      <td>Melbourne</td>\n      <td>85</td>\n      <td>1.9</td>\n    </tr>\n  </tbody>\n</table>\n<p>636 rows × 4 columns</p>\n</div>"
     },
     "metadata": {},
     "execution_count": 9
    }
   ],
   "source": [
    "hotel_price_2 = hotel_price_1.rename(columns={'Hotel_city':'City'})\n",
    "hotel_price_2"
   ]
  },
  {
   "cell_type": "code",
   "execution_count": 11,
   "metadata": {},
   "outputs": [
    {
     "output_type": "execute_result",
     "data": {
      "text/plain": [
       "0         DAYLESFORD\n",
       "1      CAPE WOOLAMAI\n",
       "2           TRENTHAM\n",
       "3            WOODEND\n",
       "4          MELBOURNE\n",
       "           ...      \n",
       "631        MELBOURNE\n",
       "632        MELBOURNE\n",
       "633        MELBOURNE\n",
       "634    HEPBURN SHIRE\n",
       "635        MELBOURNE\n",
       "Name: City, Length: 636, dtype: object"
      ]
     },
     "metadata": {},
     "execution_count": 11
    }
   ],
   "source": [
    "# Further changing the Cities to all uppercases in order to query on SQL\n",
    "city_name = hotel_price_2['City'].str.upper()\n",
    "city_name"
   ]
  },
  {
   "cell_type": "code",
   "execution_count": 12,
   "metadata": {},
   "outputs": [
    {
     "output_type": "execute_result",
     "data": {
      "text/plain": [
       "                                            Hotel_name           City  \\\n",
       "0    Roses of Daylesford - Rosemary Cottage   Beaut...     DAYLESFORD   \n",
       "1    New Modern luxurious studio appartment 5mins w...  CAPE WOOLAMAI   \n",
       "2    Maple Cottage \"The Studio\" Trentham - $99 mid ...       TRENTHAM   \n",
       "3    Bella Loft: luxury studio apartment in the hea...        WOODEND   \n",
       "4    The Gatehouse - Light filled  cottage  in the ...      MELBOURNE   \n",
       "..                                                 ...            ...   \n",
       "631           The Sebel Residences Melbourne Docklands      MELBOURNE   \n",
       "632                      Summer Inn Holiday Apartments      MELBOURNE   \n",
       "633            CBD Victoria Harbour Service Apartments      MELBOURNE   \n",
       "634                                  Clunes Guest Home  HEPBURN SHIRE   \n",
       "635                                   Redan Apartments      MELBOURNE   \n",
       "\n",
       "     Hotel_price  Hotel_rating  \n",
       "0            235           3.0  \n",
       "1            279           5.0  \n",
       "2            172           4.8  \n",
       "3            270           4.9  \n",
       "4            200           4.9  \n",
       "..           ...           ...  \n",
       "631          194           4.0  \n",
       "632          200           3.8  \n",
       "633          421           3.4  \n",
       "634          140           3.3  \n",
       "635           85           1.9  \n",
       "\n",
       "[636 rows x 4 columns]"
      ],
      "text/html": "<div>\n<style scoped>\n    .dataframe tbody tr th:only-of-type {\n        vertical-align: middle;\n    }\n\n    .dataframe tbody tr th {\n        vertical-align: top;\n    }\n\n    .dataframe thead th {\n        text-align: right;\n    }\n</style>\n<table border=\"1\" class=\"dataframe\">\n  <thead>\n    <tr style=\"text-align: right;\">\n      <th></th>\n      <th>Hotel_name</th>\n      <th>City</th>\n      <th>Hotel_price</th>\n      <th>Hotel_rating</th>\n    </tr>\n  </thead>\n  <tbody>\n    <tr>\n      <th>0</th>\n      <td>Roses of Daylesford - Rosemary Cottage   Beaut...</td>\n      <td>DAYLESFORD</td>\n      <td>235</td>\n      <td>3.0</td>\n    </tr>\n    <tr>\n      <th>1</th>\n      <td>New Modern luxurious studio appartment 5mins w...</td>\n      <td>CAPE WOOLAMAI</td>\n      <td>279</td>\n      <td>5.0</td>\n    </tr>\n    <tr>\n      <th>2</th>\n      <td>Maple Cottage \"The Studio\" Trentham - $99 mid ...</td>\n      <td>TRENTHAM</td>\n      <td>172</td>\n      <td>4.8</td>\n    </tr>\n    <tr>\n      <th>3</th>\n      <td>Bella Loft: luxury studio apartment in the hea...</td>\n      <td>WOODEND</td>\n      <td>270</td>\n      <td>4.9</td>\n    </tr>\n    <tr>\n      <th>4</th>\n      <td>The Gatehouse - Light filled  cottage  in the ...</td>\n      <td>MELBOURNE</td>\n      <td>200</td>\n      <td>4.9</td>\n    </tr>\n    <tr>\n      <th>...</th>\n      <td>...</td>\n      <td>...</td>\n      <td>...</td>\n      <td>...</td>\n    </tr>\n    <tr>\n      <th>631</th>\n      <td>The Sebel Residences Melbourne Docklands</td>\n      <td>MELBOURNE</td>\n      <td>194</td>\n      <td>4.0</td>\n    </tr>\n    <tr>\n      <th>632</th>\n      <td>Summer Inn Holiday Apartments</td>\n      <td>MELBOURNE</td>\n      <td>200</td>\n      <td>3.8</td>\n    </tr>\n    <tr>\n      <th>633</th>\n      <td>CBD Victoria Harbour Service Apartments</td>\n      <td>MELBOURNE</td>\n      <td>421</td>\n      <td>3.4</td>\n    </tr>\n    <tr>\n      <th>634</th>\n      <td>Clunes Guest Home</td>\n      <td>HEPBURN SHIRE</td>\n      <td>140</td>\n      <td>3.3</td>\n    </tr>\n    <tr>\n      <th>635</th>\n      <td>Redan Apartments</td>\n      <td>MELBOURNE</td>\n      <td>85</td>\n      <td>1.9</td>\n    </tr>\n  </tbody>\n</table>\n<p>636 rows × 4 columns</p>\n</div>"
     },
     "metadata": {},
     "execution_count": 12
    }
   ],
   "source": [
    "hotel_price_2['City'] = city_name\n",
    "hotel_price_2"
   ]
  },
  {
   "cell_type": "code",
   "execution_count": 13,
   "metadata": {},
   "outputs": [],
   "source": [
    "# Exporting to CSV\n",
    "hotel_price_2.to_csv('Cleaned_data/hotel_price_clean.csv')"
   ]
  },
  {
   "source": [
    "# Historical Hotels"
   ],
   "cell_type": "markdown",
   "metadata": {}
  },
  {
   "cell_type": "code",
   "execution_count": 15,
   "metadata": {},
   "outputs": [
    {
     "output_type": "execute_result",
     "data": {
      "text/plain": [
       "       Historical Hotel        City\n",
       "0     Corner-Commercial   ALEXANDRA\n",
       "1       Mining Exchange   ALEXANDRA\n",
       "2             Belle Vue   ALEXANDRA\n",
       "3            Commercial   ALEXANDRA\n",
       "4        Mount Pleasant   ALEXANDRA\n",
       "...                 ...         ...\n",
       "6266              Royal  WYCHEPROOF\n",
       "6267   Post Office Club  WYCHEPROOF\n",
       "6268         Royal Mail  WYCHEPROOF\n",
       "6269         Royal Mail  WYCHEPROOF\n",
       "6270         Royal Mail  WYCHEPROOF\n",
       "\n",
       "[6271 rows x 2 columns]"
      ],
      "text/html": "<div>\n<style scoped>\n    .dataframe tbody tr th:only-of-type {\n        vertical-align: middle;\n    }\n\n    .dataframe tbody tr th {\n        vertical-align: top;\n    }\n\n    .dataframe thead th {\n        text-align: right;\n    }\n</style>\n<table border=\"1\" class=\"dataframe\">\n  <thead>\n    <tr style=\"text-align: right;\">\n      <th></th>\n      <th>Historical Hotel</th>\n      <th>City</th>\n    </tr>\n  </thead>\n  <tbody>\n    <tr>\n      <th>0</th>\n      <td>Corner-Commercial</td>\n      <td>ALEXANDRA</td>\n    </tr>\n    <tr>\n      <th>1</th>\n      <td>Mining Exchange</td>\n      <td>ALEXANDRA</td>\n    </tr>\n    <tr>\n      <th>2</th>\n      <td>Belle Vue</td>\n      <td>ALEXANDRA</td>\n    </tr>\n    <tr>\n      <th>3</th>\n      <td>Commercial</td>\n      <td>ALEXANDRA</td>\n    </tr>\n    <tr>\n      <th>4</th>\n      <td>Mount Pleasant</td>\n      <td>ALEXANDRA</td>\n    </tr>\n    <tr>\n      <th>...</th>\n      <td>...</td>\n      <td>...</td>\n    </tr>\n    <tr>\n      <th>6266</th>\n      <td>Royal</td>\n      <td>WYCHEPROOF</td>\n    </tr>\n    <tr>\n      <th>6267</th>\n      <td>Post Office Club</td>\n      <td>WYCHEPROOF</td>\n    </tr>\n    <tr>\n      <th>6268</th>\n      <td>Royal Mail</td>\n      <td>WYCHEPROOF</td>\n    </tr>\n    <tr>\n      <th>6269</th>\n      <td>Royal Mail</td>\n      <td>WYCHEPROOF</td>\n    </tr>\n    <tr>\n      <th>6270</th>\n      <td>Royal Mail</td>\n      <td>WYCHEPROOF</td>\n    </tr>\n  </tbody>\n</table>\n<p>6271 rows × 2 columns</p>\n</div>"
     },
     "metadata": {},
     "execution_count": 15
    }
   ],
   "source": [
    "# Cleaning Historical Hotels Dataframe\n",
    "historical_hotel = pd.read_csv('Raw_data/victorian_country_hotels_and_licensees.csv')\n",
    "historical_hotel"
   ]
  },
  {
   "cell_type": "code",
   "execution_count": 16,
   "metadata": {},
   "outputs": [
    {
     "output_type": "execute_result",
     "data": {
      "text/plain": [
       "<bound method Index.unique of Index(['Historical Hotel', 'City'], dtype='object')>"
      ]
     },
     "metadata": {},
     "execution_count": 16
    }
   ],
   "source": [
    "historical_hotel.columns.unique"
   ]
  },
  {
   "cell_type": "code",
   "execution_count": 17,
   "metadata": {},
   "outputs": [
    {
     "output_type": "execute_result",
     "data": {
      "text/plain": [
       "       Historical Hotel        City\n",
       "0     Corner-Commercial   ALEXANDRA\n",
       "1       Mining Exchange   ALEXANDRA\n",
       "2             Belle Vue   ALEXANDRA\n",
       "3            Commercial   ALEXANDRA\n",
       "4        Mount Pleasant   ALEXANDRA\n",
       "...                 ...         ...\n",
       "6239           Terminus  WYCHEPROOF\n",
       "6240      Mt Wycheproof  WYCHEPROOF\n",
       "6241   Post Office Club  WYCHEPROOF\n",
       "6243         Royal Mail  WYCHEPROOF\n",
       "6244              Royal  WYCHEPROOF\n",
       "\n",
       "[1933 rows x 2 columns]"
      ],
      "text/html": "<div>\n<style scoped>\n    .dataframe tbody tr th:only-of-type {\n        vertical-align: middle;\n    }\n\n    .dataframe tbody tr th {\n        vertical-align: top;\n    }\n\n    .dataframe thead th {\n        text-align: right;\n    }\n</style>\n<table border=\"1\" class=\"dataframe\">\n  <thead>\n    <tr style=\"text-align: right;\">\n      <th></th>\n      <th>Historical Hotel</th>\n      <th>City</th>\n    </tr>\n  </thead>\n  <tbody>\n    <tr>\n      <th>0</th>\n      <td>Corner-Commercial</td>\n      <td>ALEXANDRA</td>\n    </tr>\n    <tr>\n      <th>1</th>\n      <td>Mining Exchange</td>\n      <td>ALEXANDRA</td>\n    </tr>\n    <tr>\n      <th>2</th>\n      <td>Belle Vue</td>\n      <td>ALEXANDRA</td>\n    </tr>\n    <tr>\n      <th>3</th>\n      <td>Commercial</td>\n      <td>ALEXANDRA</td>\n    </tr>\n    <tr>\n      <th>4</th>\n      <td>Mount Pleasant</td>\n      <td>ALEXANDRA</td>\n    </tr>\n    <tr>\n      <th>...</th>\n      <td>...</td>\n      <td>...</td>\n    </tr>\n    <tr>\n      <th>6239</th>\n      <td>Terminus</td>\n      <td>WYCHEPROOF</td>\n    </tr>\n    <tr>\n      <th>6240</th>\n      <td>Mt Wycheproof</td>\n      <td>WYCHEPROOF</td>\n    </tr>\n    <tr>\n      <th>6241</th>\n      <td>Post Office Club</td>\n      <td>WYCHEPROOF</td>\n    </tr>\n    <tr>\n      <th>6243</th>\n      <td>Royal Mail</td>\n      <td>WYCHEPROOF</td>\n    </tr>\n    <tr>\n      <th>6244</th>\n      <td>Royal</td>\n      <td>WYCHEPROOF</td>\n    </tr>\n  </tbody>\n</table>\n<p>1933 rows × 2 columns</p>\n</div>"
     },
     "metadata": {},
     "execution_count": 17
    }
   ],
   "source": [
    "historical_hotel_1 = historical_hotel.drop_duplicates(keep='first')\n",
    "historical_hotel_1"
   ]
  },
  {
   "cell_type": "code",
   "execution_count": 18,
   "metadata": {},
   "outputs": [
    {
     "output_type": "execute_result",
     "data": {
      "text/plain": [
       "       historical_hotel        City\n",
       "0     Corner-Commercial   ALEXANDRA\n",
       "1       Mining Exchange   ALEXANDRA\n",
       "2             Belle Vue   ALEXANDRA\n",
       "3            Commercial   ALEXANDRA\n",
       "4        Mount Pleasant   ALEXANDRA\n",
       "...                 ...         ...\n",
       "6239           Terminus  WYCHEPROOF\n",
       "6240      Mt Wycheproof  WYCHEPROOF\n",
       "6241   Post Office Club  WYCHEPROOF\n",
       "6243         Royal Mail  WYCHEPROOF\n",
       "6244              Royal  WYCHEPROOF\n",
       "\n",
       "[1933 rows x 2 columns]"
      ],
      "text/html": "<div>\n<style scoped>\n    .dataframe tbody tr th:only-of-type {\n        vertical-align: middle;\n    }\n\n    .dataframe tbody tr th {\n        vertical-align: top;\n    }\n\n    .dataframe thead th {\n        text-align: right;\n    }\n</style>\n<table border=\"1\" class=\"dataframe\">\n  <thead>\n    <tr style=\"text-align: right;\">\n      <th></th>\n      <th>historical_hotel</th>\n      <th>City</th>\n    </tr>\n  </thead>\n  <tbody>\n    <tr>\n      <th>0</th>\n      <td>Corner-Commercial</td>\n      <td>ALEXANDRA</td>\n    </tr>\n    <tr>\n      <th>1</th>\n      <td>Mining Exchange</td>\n      <td>ALEXANDRA</td>\n    </tr>\n    <tr>\n      <th>2</th>\n      <td>Belle Vue</td>\n      <td>ALEXANDRA</td>\n    </tr>\n    <tr>\n      <th>3</th>\n      <td>Commercial</td>\n      <td>ALEXANDRA</td>\n    </tr>\n    <tr>\n      <th>4</th>\n      <td>Mount Pleasant</td>\n      <td>ALEXANDRA</td>\n    </tr>\n    <tr>\n      <th>...</th>\n      <td>...</td>\n      <td>...</td>\n    </tr>\n    <tr>\n      <th>6239</th>\n      <td>Terminus</td>\n      <td>WYCHEPROOF</td>\n    </tr>\n    <tr>\n      <th>6240</th>\n      <td>Mt Wycheproof</td>\n      <td>WYCHEPROOF</td>\n    </tr>\n    <tr>\n      <th>6241</th>\n      <td>Post Office Club</td>\n      <td>WYCHEPROOF</td>\n    </tr>\n    <tr>\n      <th>6243</th>\n      <td>Royal Mail</td>\n      <td>WYCHEPROOF</td>\n    </tr>\n    <tr>\n      <th>6244</th>\n      <td>Royal</td>\n      <td>WYCHEPROOF</td>\n    </tr>\n  </tbody>\n</table>\n<p>1933 rows × 2 columns</p>\n</div>"
     },
     "metadata": {},
     "execution_count": 18
    }
   ],
   "source": [
    "# Renaming the column\n",
    "historical_hotel_2 = historical_hotel_1.rename(columns={'Historical Hotel':'historical_hotel'})\n",
    "historical_hotel_2"
   ]
  },
  {
   "cell_type": "code",
   "execution_count": 19,
   "metadata": {},
   "outputs": [],
   "source": [
    "# Exporting dataframe back as a clean CSV\n",
    "historical_hotel_2.to_csv('Cleaned_data/historical_hotel_clean.csv', index=False)"
   ]
  },
  {
   "cell_type": "code",
   "execution_count": null,
   "metadata": {},
   "outputs": [],
   "source": []
  }
 ]
}